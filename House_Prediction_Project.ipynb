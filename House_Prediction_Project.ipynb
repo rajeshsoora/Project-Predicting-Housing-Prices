{
 "cells": [
  {
   "cell_type": "code",
   "execution_count": 1,
   "metadata": {},
   "outputs": [],
   "source": [
    "import numpy as np\n",
    "import pandas as pd\n",
    "import matplotlib.pyplot as plt\n",
    "import seaborn as sns"
   ]
  },
  {
   "cell_type": "code",
   "execution_count": 2,
   "metadata": {},
   "outputs": [],
   "source": [
    "Home = pd.read_csv('E:\\Datasets\\house_pricing_kaggle.csv')\n",
    "##Home.dtypes"
   ]
  },
  {
   "cell_type": "code",
   "execution_count": 11,
   "metadata": {},
   "outputs": [],
   "source": [
    "pd.set_option('display.max_rows', None)\n",
    "pd.set_option('display.max_columns' ,None)"
   ]
  },
  {
   "cell_type": "code",
   "execution_count": 12,
   "metadata": {},
   "outputs": [
    {
     "data": {
      "text/html": [
       "<div>\n",
       "<style scoped>\n",
       "    .dataframe tbody tr th:only-of-type {\n",
       "        vertical-align: middle;\n",
       "    }\n",
       "\n",
       "    .dataframe tbody tr th {\n",
       "        vertical-align: top;\n",
       "    }\n",
       "\n",
       "    .dataframe thead th {\n",
       "        text-align: right;\n",
       "    }\n",
       "</style>\n",
       "<table border=\"1\" class=\"dataframe\">\n",
       "  <thead>\n",
       "    <tr style=\"text-align: right;\">\n",
       "      <th></th>\n",
       "      <th>Id</th>\n",
       "      <th>MSSubClass</th>\n",
       "      <th>LotArea</th>\n",
       "      <th>OverallQual</th>\n",
       "      <th>OverallCond</th>\n",
       "      <th>YearBuilt</th>\n",
       "      <th>YearRemodAdd</th>\n",
       "      <th>BsmtFinSF1</th>\n",
       "      <th>BsmtFinSF2</th>\n",
       "      <th>BsmtUnfSF</th>\n",
       "      <th>TotalBsmtSF</th>\n",
       "      <th>1stFlrSF</th>\n",
       "      <th>2ndFlrSF</th>\n",
       "      <th>LowQualFinSF</th>\n",
       "      <th>GrLivArea</th>\n",
       "      <th>BsmtFullBath</th>\n",
       "      <th>BsmtHalfBath</th>\n",
       "      <th>FullBath</th>\n",
       "      <th>HalfBath</th>\n",
       "      <th>BedroomAbvGr</th>\n",
       "      <th>KitchenAbvGr</th>\n",
       "      <th>TotRmsAbvGrd</th>\n",
       "      <th>Fireplaces</th>\n",
       "      <th>GarageCars</th>\n",
       "      <th>GarageArea</th>\n",
       "      <th>WoodDeckSF</th>\n",
       "      <th>OpenPorchSF</th>\n",
       "      <th>EnclosedPorch</th>\n",
       "      <th>3SsnPorch</th>\n",
       "      <th>ScreenPorch</th>\n",
       "      <th>PoolArea</th>\n",
       "      <th>MiscVal</th>\n",
       "      <th>MoSold</th>\n",
       "      <th>YrSold</th>\n",
       "      <th>SalePrice</th>\n",
       "    </tr>\n",
       "  </thead>\n",
       "  <tbody>\n",
       "    <tr>\n",
       "      <th>count</th>\n",
       "      <td>1460.000000</td>\n",
       "      <td>1460.000000</td>\n",
       "      <td>1460.000000</td>\n",
       "      <td>1460.000000</td>\n",
       "      <td>1460.000000</td>\n",
       "      <td>1460.000000</td>\n",
       "      <td>1460.000000</td>\n",
       "      <td>1460.000000</td>\n",
       "      <td>1460.000000</td>\n",
       "      <td>1460.000000</td>\n",
       "      <td>1460.000000</td>\n",
       "      <td>1460.000000</td>\n",
       "      <td>1460.000000</td>\n",
       "      <td>1460.000000</td>\n",
       "      <td>1460.000000</td>\n",
       "      <td>1460.000000</td>\n",
       "      <td>1460.000000</td>\n",
       "      <td>1460.000000</td>\n",
       "      <td>1460.000000</td>\n",
       "      <td>1460.000000</td>\n",
       "      <td>1460.000000</td>\n",
       "      <td>1460.000000</td>\n",
       "      <td>1460.000000</td>\n",
       "      <td>1460.000000</td>\n",
       "      <td>1460.000000</td>\n",
       "      <td>1460.000000</td>\n",
       "      <td>1460.000000</td>\n",
       "      <td>1460.000000</td>\n",
       "      <td>1460.000000</td>\n",
       "      <td>1460.000000</td>\n",
       "      <td>1460.000000</td>\n",
       "      <td>1460.000000</td>\n",
       "      <td>1460.000000</td>\n",
       "      <td>1460.000000</td>\n",
       "      <td>1460.000000</td>\n",
       "    </tr>\n",
       "    <tr>\n",
       "      <th>mean</th>\n",
       "      <td>730.500000</td>\n",
       "      <td>56.897260</td>\n",
       "      <td>10516.828082</td>\n",
       "      <td>6.099315</td>\n",
       "      <td>5.575342</td>\n",
       "      <td>1971.267808</td>\n",
       "      <td>1984.865753</td>\n",
       "      <td>443.639726</td>\n",
       "      <td>46.549315</td>\n",
       "      <td>567.240411</td>\n",
       "      <td>1057.429452</td>\n",
       "      <td>1162.626712</td>\n",
       "      <td>346.992466</td>\n",
       "      <td>5.844521</td>\n",
       "      <td>1515.463699</td>\n",
       "      <td>0.425342</td>\n",
       "      <td>0.057534</td>\n",
       "      <td>1.565068</td>\n",
       "      <td>0.382877</td>\n",
       "      <td>2.866438</td>\n",
       "      <td>1.046575</td>\n",
       "      <td>6.517808</td>\n",
       "      <td>0.613014</td>\n",
       "      <td>1.767123</td>\n",
       "      <td>472.980137</td>\n",
       "      <td>94.244521</td>\n",
       "      <td>46.660274</td>\n",
       "      <td>21.954110</td>\n",
       "      <td>3.409589</td>\n",
       "      <td>15.060959</td>\n",
       "      <td>2.758904</td>\n",
       "      <td>43.489041</td>\n",
       "      <td>6.321918</td>\n",
       "      <td>2007.815753</td>\n",
       "      <td>180921.195890</td>\n",
       "    </tr>\n",
       "    <tr>\n",
       "      <th>std</th>\n",
       "      <td>421.610009</td>\n",
       "      <td>42.300571</td>\n",
       "      <td>9981.264932</td>\n",
       "      <td>1.382997</td>\n",
       "      <td>1.112799</td>\n",
       "      <td>30.202904</td>\n",
       "      <td>20.645407</td>\n",
       "      <td>456.098091</td>\n",
       "      <td>161.319273</td>\n",
       "      <td>441.866955</td>\n",
       "      <td>438.705324</td>\n",
       "      <td>386.587738</td>\n",
       "      <td>436.528436</td>\n",
       "      <td>48.623081</td>\n",
       "      <td>525.480383</td>\n",
       "      <td>0.518911</td>\n",
       "      <td>0.238753</td>\n",
       "      <td>0.550916</td>\n",
       "      <td>0.502885</td>\n",
       "      <td>0.815778</td>\n",
       "      <td>0.220338</td>\n",
       "      <td>1.625393</td>\n",
       "      <td>0.644666</td>\n",
       "      <td>0.747315</td>\n",
       "      <td>213.804841</td>\n",
       "      <td>125.338794</td>\n",
       "      <td>66.256028</td>\n",
       "      <td>61.119149</td>\n",
       "      <td>29.317331</td>\n",
       "      <td>55.757415</td>\n",
       "      <td>40.177307</td>\n",
       "      <td>496.123024</td>\n",
       "      <td>2.703626</td>\n",
       "      <td>1.328095</td>\n",
       "      <td>79442.502883</td>\n",
       "    </tr>\n",
       "    <tr>\n",
       "      <th>min</th>\n",
       "      <td>1.000000</td>\n",
       "      <td>20.000000</td>\n",
       "      <td>1300.000000</td>\n",
       "      <td>1.000000</td>\n",
       "      <td>1.000000</td>\n",
       "      <td>1872.000000</td>\n",
       "      <td>1950.000000</td>\n",
       "      <td>0.000000</td>\n",
       "      <td>0.000000</td>\n",
       "      <td>0.000000</td>\n",
       "      <td>0.000000</td>\n",
       "      <td>334.000000</td>\n",
       "      <td>0.000000</td>\n",
       "      <td>0.000000</td>\n",
       "      <td>334.000000</td>\n",
       "      <td>0.000000</td>\n",
       "      <td>0.000000</td>\n",
       "      <td>0.000000</td>\n",
       "      <td>0.000000</td>\n",
       "      <td>0.000000</td>\n",
       "      <td>0.000000</td>\n",
       "      <td>2.000000</td>\n",
       "      <td>0.000000</td>\n",
       "      <td>0.000000</td>\n",
       "      <td>0.000000</td>\n",
       "      <td>0.000000</td>\n",
       "      <td>0.000000</td>\n",
       "      <td>0.000000</td>\n",
       "      <td>0.000000</td>\n",
       "      <td>0.000000</td>\n",
       "      <td>0.000000</td>\n",
       "      <td>0.000000</td>\n",
       "      <td>1.000000</td>\n",
       "      <td>2006.000000</td>\n",
       "      <td>34900.000000</td>\n",
       "    </tr>\n",
       "    <tr>\n",
       "      <th>25%</th>\n",
       "      <td>365.750000</td>\n",
       "      <td>20.000000</td>\n",
       "      <td>7553.500000</td>\n",
       "      <td>5.000000</td>\n",
       "      <td>5.000000</td>\n",
       "      <td>1954.000000</td>\n",
       "      <td>1967.000000</td>\n",
       "      <td>0.000000</td>\n",
       "      <td>0.000000</td>\n",
       "      <td>223.000000</td>\n",
       "      <td>795.750000</td>\n",
       "      <td>882.000000</td>\n",
       "      <td>0.000000</td>\n",
       "      <td>0.000000</td>\n",
       "      <td>1129.500000</td>\n",
       "      <td>0.000000</td>\n",
       "      <td>0.000000</td>\n",
       "      <td>1.000000</td>\n",
       "      <td>0.000000</td>\n",
       "      <td>2.000000</td>\n",
       "      <td>1.000000</td>\n",
       "      <td>5.000000</td>\n",
       "      <td>0.000000</td>\n",
       "      <td>1.000000</td>\n",
       "      <td>334.500000</td>\n",
       "      <td>0.000000</td>\n",
       "      <td>0.000000</td>\n",
       "      <td>0.000000</td>\n",
       "      <td>0.000000</td>\n",
       "      <td>0.000000</td>\n",
       "      <td>0.000000</td>\n",
       "      <td>0.000000</td>\n",
       "      <td>5.000000</td>\n",
       "      <td>2007.000000</td>\n",
       "      <td>129975.000000</td>\n",
       "    </tr>\n",
       "    <tr>\n",
       "      <th>50%</th>\n",
       "      <td>730.500000</td>\n",
       "      <td>50.000000</td>\n",
       "      <td>9478.500000</td>\n",
       "      <td>6.000000</td>\n",
       "      <td>5.000000</td>\n",
       "      <td>1973.000000</td>\n",
       "      <td>1994.000000</td>\n",
       "      <td>383.500000</td>\n",
       "      <td>0.000000</td>\n",
       "      <td>477.500000</td>\n",
       "      <td>991.500000</td>\n",
       "      <td>1087.000000</td>\n",
       "      <td>0.000000</td>\n",
       "      <td>0.000000</td>\n",
       "      <td>1464.000000</td>\n",
       "      <td>0.000000</td>\n",
       "      <td>0.000000</td>\n",
       "      <td>2.000000</td>\n",
       "      <td>0.000000</td>\n",
       "      <td>3.000000</td>\n",
       "      <td>1.000000</td>\n",
       "      <td>6.000000</td>\n",
       "      <td>1.000000</td>\n",
       "      <td>2.000000</td>\n",
       "      <td>480.000000</td>\n",
       "      <td>0.000000</td>\n",
       "      <td>25.000000</td>\n",
       "      <td>0.000000</td>\n",
       "      <td>0.000000</td>\n",
       "      <td>0.000000</td>\n",
       "      <td>0.000000</td>\n",
       "      <td>0.000000</td>\n",
       "      <td>6.000000</td>\n",
       "      <td>2008.000000</td>\n",
       "      <td>163000.000000</td>\n",
       "    </tr>\n",
       "    <tr>\n",
       "      <th>75%</th>\n",
       "      <td>1095.250000</td>\n",
       "      <td>70.000000</td>\n",
       "      <td>11601.500000</td>\n",
       "      <td>7.000000</td>\n",
       "      <td>6.000000</td>\n",
       "      <td>2000.000000</td>\n",
       "      <td>2004.000000</td>\n",
       "      <td>712.250000</td>\n",
       "      <td>0.000000</td>\n",
       "      <td>808.000000</td>\n",
       "      <td>1298.250000</td>\n",
       "      <td>1391.250000</td>\n",
       "      <td>728.000000</td>\n",
       "      <td>0.000000</td>\n",
       "      <td>1776.750000</td>\n",
       "      <td>1.000000</td>\n",
       "      <td>0.000000</td>\n",
       "      <td>2.000000</td>\n",
       "      <td>1.000000</td>\n",
       "      <td>3.000000</td>\n",
       "      <td>1.000000</td>\n",
       "      <td>7.000000</td>\n",
       "      <td>1.000000</td>\n",
       "      <td>2.000000</td>\n",
       "      <td>576.000000</td>\n",
       "      <td>168.000000</td>\n",
       "      <td>68.000000</td>\n",
       "      <td>0.000000</td>\n",
       "      <td>0.000000</td>\n",
       "      <td>0.000000</td>\n",
       "      <td>0.000000</td>\n",
       "      <td>0.000000</td>\n",
       "      <td>8.000000</td>\n",
       "      <td>2009.000000</td>\n",
       "      <td>214000.000000</td>\n",
       "    </tr>\n",
       "    <tr>\n",
       "      <th>max</th>\n",
       "      <td>1460.000000</td>\n",
       "      <td>190.000000</td>\n",
       "      <td>215245.000000</td>\n",
       "      <td>10.000000</td>\n",
       "      <td>9.000000</td>\n",
       "      <td>2010.000000</td>\n",
       "      <td>2010.000000</td>\n",
       "      <td>5644.000000</td>\n",
       "      <td>1474.000000</td>\n",
       "      <td>2336.000000</td>\n",
       "      <td>6110.000000</td>\n",
       "      <td>4692.000000</td>\n",
       "      <td>2065.000000</td>\n",
       "      <td>572.000000</td>\n",
       "      <td>5642.000000</td>\n",
       "      <td>3.000000</td>\n",
       "      <td>2.000000</td>\n",
       "      <td>3.000000</td>\n",
       "      <td>2.000000</td>\n",
       "      <td>8.000000</td>\n",
       "      <td>3.000000</td>\n",
       "      <td>14.000000</td>\n",
       "      <td>3.000000</td>\n",
       "      <td>4.000000</td>\n",
       "      <td>1418.000000</td>\n",
       "      <td>857.000000</td>\n",
       "      <td>547.000000</td>\n",
       "      <td>552.000000</td>\n",
       "      <td>508.000000</td>\n",
       "      <td>480.000000</td>\n",
       "      <td>738.000000</td>\n",
       "      <td>15500.000000</td>\n",
       "      <td>12.000000</td>\n",
       "      <td>2010.000000</td>\n",
       "      <td>755000.000000</td>\n",
       "    </tr>\n",
       "  </tbody>\n",
       "</table>\n",
       "</div>"
      ],
      "text/plain": [
       "                Id   MSSubClass        LotArea  OverallQual  OverallCond  \\\n",
       "count  1460.000000  1460.000000    1460.000000  1460.000000  1460.000000   \n",
       "mean    730.500000    56.897260   10516.828082     6.099315     5.575342   \n",
       "std     421.610009    42.300571    9981.264932     1.382997     1.112799   \n",
       "min       1.000000    20.000000    1300.000000     1.000000     1.000000   \n",
       "25%     365.750000    20.000000    7553.500000     5.000000     5.000000   \n",
       "50%     730.500000    50.000000    9478.500000     6.000000     5.000000   \n",
       "75%    1095.250000    70.000000   11601.500000     7.000000     6.000000   \n",
       "max    1460.000000   190.000000  215245.000000    10.000000     9.000000   \n",
       "\n",
       "         YearBuilt  YearRemodAdd   BsmtFinSF1   BsmtFinSF2    BsmtUnfSF  \\\n",
       "count  1460.000000   1460.000000  1460.000000  1460.000000  1460.000000   \n",
       "mean   1971.267808   1984.865753   443.639726    46.549315   567.240411   \n",
       "std      30.202904     20.645407   456.098091   161.319273   441.866955   \n",
       "min    1872.000000   1950.000000     0.000000     0.000000     0.000000   \n",
       "25%    1954.000000   1967.000000     0.000000     0.000000   223.000000   \n",
       "50%    1973.000000   1994.000000   383.500000     0.000000   477.500000   \n",
       "75%    2000.000000   2004.000000   712.250000     0.000000   808.000000   \n",
       "max    2010.000000   2010.000000  5644.000000  1474.000000  2336.000000   \n",
       "\n",
       "       TotalBsmtSF     1stFlrSF     2ndFlrSF  LowQualFinSF    GrLivArea  \\\n",
       "count  1460.000000  1460.000000  1460.000000   1460.000000  1460.000000   \n",
       "mean   1057.429452  1162.626712   346.992466      5.844521  1515.463699   \n",
       "std     438.705324   386.587738   436.528436     48.623081   525.480383   \n",
       "min       0.000000   334.000000     0.000000      0.000000   334.000000   \n",
       "25%     795.750000   882.000000     0.000000      0.000000  1129.500000   \n",
       "50%     991.500000  1087.000000     0.000000      0.000000  1464.000000   \n",
       "75%    1298.250000  1391.250000   728.000000      0.000000  1776.750000   \n",
       "max    6110.000000  4692.000000  2065.000000    572.000000  5642.000000   \n",
       "\n",
       "       BsmtFullBath  BsmtHalfBath     FullBath     HalfBath  BedroomAbvGr  \\\n",
       "count   1460.000000   1460.000000  1460.000000  1460.000000   1460.000000   \n",
       "mean       0.425342      0.057534     1.565068     0.382877      2.866438   \n",
       "std        0.518911      0.238753     0.550916     0.502885      0.815778   \n",
       "min        0.000000      0.000000     0.000000     0.000000      0.000000   \n",
       "25%        0.000000      0.000000     1.000000     0.000000      2.000000   \n",
       "50%        0.000000      0.000000     2.000000     0.000000      3.000000   \n",
       "75%        1.000000      0.000000     2.000000     1.000000      3.000000   \n",
       "max        3.000000      2.000000     3.000000     2.000000      8.000000   \n",
       "\n",
       "       KitchenAbvGr  TotRmsAbvGrd   Fireplaces   GarageCars   GarageArea  \\\n",
       "count   1460.000000   1460.000000  1460.000000  1460.000000  1460.000000   \n",
       "mean       1.046575      6.517808     0.613014     1.767123   472.980137   \n",
       "std        0.220338      1.625393     0.644666     0.747315   213.804841   \n",
       "min        0.000000      2.000000     0.000000     0.000000     0.000000   \n",
       "25%        1.000000      5.000000     0.000000     1.000000   334.500000   \n",
       "50%        1.000000      6.000000     1.000000     2.000000   480.000000   \n",
       "75%        1.000000      7.000000     1.000000     2.000000   576.000000   \n",
       "max        3.000000     14.000000     3.000000     4.000000  1418.000000   \n",
       "\n",
       "        WoodDeckSF  OpenPorchSF  EnclosedPorch    3SsnPorch  ScreenPorch  \\\n",
       "count  1460.000000  1460.000000    1460.000000  1460.000000  1460.000000   \n",
       "mean     94.244521    46.660274      21.954110     3.409589    15.060959   \n",
       "std     125.338794    66.256028      61.119149    29.317331    55.757415   \n",
       "min       0.000000     0.000000       0.000000     0.000000     0.000000   \n",
       "25%       0.000000     0.000000       0.000000     0.000000     0.000000   \n",
       "50%       0.000000    25.000000       0.000000     0.000000     0.000000   \n",
       "75%     168.000000    68.000000       0.000000     0.000000     0.000000   \n",
       "max     857.000000   547.000000     552.000000   508.000000   480.000000   \n",
       "\n",
       "          PoolArea       MiscVal       MoSold       YrSold      SalePrice  \n",
       "count  1460.000000   1460.000000  1460.000000  1460.000000    1460.000000  \n",
       "mean      2.758904     43.489041     6.321918  2007.815753  180921.195890  \n",
       "std      40.177307    496.123024     2.703626     1.328095   79442.502883  \n",
       "min       0.000000      0.000000     1.000000  2006.000000   34900.000000  \n",
       "25%       0.000000      0.000000     5.000000  2007.000000  129975.000000  \n",
       "50%       0.000000      0.000000     6.000000  2008.000000  163000.000000  \n",
       "75%       0.000000      0.000000     8.000000  2009.000000  214000.000000  \n",
       "max     738.000000  15500.000000    12.000000  2010.000000  755000.000000  "
      ]
     },
     "execution_count": 12,
     "metadata": {},
     "output_type": "execute_result"
    }
   ],
   "source": [
    "Home.describe(include=['int64'])"
   ]
  },
  {
   "cell_type": "code",
   "execution_count": 13,
   "metadata": {},
   "outputs": [
    {
     "data": {
      "text/html": [
       "<div>\n",
       "<style scoped>\n",
       "    .dataframe tbody tr th:only-of-type {\n",
       "        vertical-align: middle;\n",
       "    }\n",
       "\n",
       "    .dataframe tbody tr th {\n",
       "        vertical-align: top;\n",
       "    }\n",
       "\n",
       "    .dataframe thead th {\n",
       "        text-align: right;\n",
       "    }\n",
       "</style>\n",
       "<table border=\"1\" class=\"dataframe\">\n",
       "  <thead>\n",
       "    <tr style=\"text-align: right;\">\n",
       "      <th></th>\n",
       "      <th>MSZoning</th>\n",
       "      <th>Street</th>\n",
       "      <th>Alley</th>\n",
       "      <th>LotShape</th>\n",
       "      <th>LandContour</th>\n",
       "      <th>Utilities</th>\n",
       "      <th>LotConfig</th>\n",
       "      <th>LandSlope</th>\n",
       "      <th>Neighborhood</th>\n",
       "      <th>Condition1</th>\n",
       "      <th>Condition2</th>\n",
       "      <th>BldgType</th>\n",
       "      <th>HouseStyle</th>\n",
       "      <th>RoofStyle</th>\n",
       "      <th>RoofMatl</th>\n",
       "      <th>Exterior1st</th>\n",
       "      <th>Exterior2nd</th>\n",
       "      <th>MasVnrType</th>\n",
       "      <th>ExterQual</th>\n",
       "      <th>ExterCond</th>\n",
       "      <th>Foundation</th>\n",
       "      <th>BsmtQual</th>\n",
       "      <th>BsmtCond</th>\n",
       "      <th>BsmtExposure</th>\n",
       "      <th>BsmtFinType1</th>\n",
       "      <th>BsmtFinType2</th>\n",
       "      <th>Heating</th>\n",
       "      <th>HeatingQC</th>\n",
       "      <th>CentralAir</th>\n",
       "      <th>Electrical</th>\n",
       "      <th>KitchenQual</th>\n",
       "      <th>Functional</th>\n",
       "      <th>FireplaceQu</th>\n",
       "      <th>GarageType</th>\n",
       "      <th>GarageFinish</th>\n",
       "      <th>GarageQual</th>\n",
       "      <th>GarageCond</th>\n",
       "      <th>PavedDrive</th>\n",
       "      <th>PoolQC</th>\n",
       "      <th>Fence</th>\n",
       "      <th>MiscFeature</th>\n",
       "      <th>SaleType</th>\n",
       "      <th>SaleCondition</th>\n",
       "    </tr>\n",
       "  </thead>\n",
       "  <tbody>\n",
       "    <tr>\n",
       "      <th>count</th>\n",
       "      <td>1460</td>\n",
       "      <td>1460</td>\n",
       "      <td>91</td>\n",
       "      <td>1460</td>\n",
       "      <td>1460</td>\n",
       "      <td>1460</td>\n",
       "      <td>1460</td>\n",
       "      <td>1460</td>\n",
       "      <td>1460</td>\n",
       "      <td>1460</td>\n",
       "      <td>1460</td>\n",
       "      <td>1460</td>\n",
       "      <td>1460</td>\n",
       "      <td>1460</td>\n",
       "      <td>1460</td>\n",
       "      <td>1460</td>\n",
       "      <td>1460</td>\n",
       "      <td>1452</td>\n",
       "      <td>1460</td>\n",
       "      <td>1460</td>\n",
       "      <td>1460</td>\n",
       "      <td>1423</td>\n",
       "      <td>1423</td>\n",
       "      <td>1422</td>\n",
       "      <td>1423</td>\n",
       "      <td>1422</td>\n",
       "      <td>1460</td>\n",
       "      <td>1460</td>\n",
       "      <td>1460</td>\n",
       "      <td>1459</td>\n",
       "      <td>1460</td>\n",
       "      <td>1460</td>\n",
       "      <td>770</td>\n",
       "      <td>1379</td>\n",
       "      <td>1379</td>\n",
       "      <td>1379</td>\n",
       "      <td>1379</td>\n",
       "      <td>1460</td>\n",
       "      <td>7</td>\n",
       "      <td>281</td>\n",
       "      <td>54</td>\n",
       "      <td>1460</td>\n",
       "      <td>1460</td>\n",
       "    </tr>\n",
       "    <tr>\n",
       "      <th>unique</th>\n",
       "      <td>5</td>\n",
       "      <td>2</td>\n",
       "      <td>2</td>\n",
       "      <td>4</td>\n",
       "      <td>4</td>\n",
       "      <td>2</td>\n",
       "      <td>5</td>\n",
       "      <td>3</td>\n",
       "      <td>25</td>\n",
       "      <td>9</td>\n",
       "      <td>8</td>\n",
       "      <td>5</td>\n",
       "      <td>8</td>\n",
       "      <td>6</td>\n",
       "      <td>8</td>\n",
       "      <td>15</td>\n",
       "      <td>16</td>\n",
       "      <td>4</td>\n",
       "      <td>4</td>\n",
       "      <td>5</td>\n",
       "      <td>6</td>\n",
       "      <td>4</td>\n",
       "      <td>4</td>\n",
       "      <td>4</td>\n",
       "      <td>6</td>\n",
       "      <td>6</td>\n",
       "      <td>6</td>\n",
       "      <td>5</td>\n",
       "      <td>2</td>\n",
       "      <td>5</td>\n",
       "      <td>4</td>\n",
       "      <td>7</td>\n",
       "      <td>5</td>\n",
       "      <td>6</td>\n",
       "      <td>3</td>\n",
       "      <td>5</td>\n",
       "      <td>5</td>\n",
       "      <td>3</td>\n",
       "      <td>3</td>\n",
       "      <td>4</td>\n",
       "      <td>4</td>\n",
       "      <td>9</td>\n",
       "      <td>6</td>\n",
       "    </tr>\n",
       "    <tr>\n",
       "      <th>top</th>\n",
       "      <td>RL</td>\n",
       "      <td>Pave</td>\n",
       "      <td>Grvl</td>\n",
       "      <td>Reg</td>\n",
       "      <td>Lvl</td>\n",
       "      <td>AllPub</td>\n",
       "      <td>Inside</td>\n",
       "      <td>Gtl</td>\n",
       "      <td>NAmes</td>\n",
       "      <td>Norm</td>\n",
       "      <td>Norm</td>\n",
       "      <td>1Fam</td>\n",
       "      <td>1Story</td>\n",
       "      <td>Gable</td>\n",
       "      <td>CompShg</td>\n",
       "      <td>VinylSd</td>\n",
       "      <td>VinylSd</td>\n",
       "      <td>None</td>\n",
       "      <td>TA</td>\n",
       "      <td>TA</td>\n",
       "      <td>PConc</td>\n",
       "      <td>TA</td>\n",
       "      <td>TA</td>\n",
       "      <td>No</td>\n",
       "      <td>Unf</td>\n",
       "      <td>Unf</td>\n",
       "      <td>GasA</td>\n",
       "      <td>Ex</td>\n",
       "      <td>Y</td>\n",
       "      <td>SBrkr</td>\n",
       "      <td>TA</td>\n",
       "      <td>Typ</td>\n",
       "      <td>Gd</td>\n",
       "      <td>Attchd</td>\n",
       "      <td>Unf</td>\n",
       "      <td>TA</td>\n",
       "      <td>TA</td>\n",
       "      <td>Y</td>\n",
       "      <td>Gd</td>\n",
       "      <td>MnPrv</td>\n",
       "      <td>Shed</td>\n",
       "      <td>WD</td>\n",
       "      <td>Normal</td>\n",
       "    </tr>\n",
       "    <tr>\n",
       "      <th>freq</th>\n",
       "      <td>1151</td>\n",
       "      <td>1454</td>\n",
       "      <td>50</td>\n",
       "      <td>925</td>\n",
       "      <td>1311</td>\n",
       "      <td>1459</td>\n",
       "      <td>1052</td>\n",
       "      <td>1382</td>\n",
       "      <td>225</td>\n",
       "      <td>1260</td>\n",
       "      <td>1445</td>\n",
       "      <td>1220</td>\n",
       "      <td>726</td>\n",
       "      <td>1141</td>\n",
       "      <td>1434</td>\n",
       "      <td>515</td>\n",
       "      <td>504</td>\n",
       "      <td>864</td>\n",
       "      <td>906</td>\n",
       "      <td>1282</td>\n",
       "      <td>647</td>\n",
       "      <td>649</td>\n",
       "      <td>1311</td>\n",
       "      <td>953</td>\n",
       "      <td>430</td>\n",
       "      <td>1256</td>\n",
       "      <td>1428</td>\n",
       "      <td>741</td>\n",
       "      <td>1365</td>\n",
       "      <td>1334</td>\n",
       "      <td>735</td>\n",
       "      <td>1360</td>\n",
       "      <td>380</td>\n",
       "      <td>870</td>\n",
       "      <td>605</td>\n",
       "      <td>1311</td>\n",
       "      <td>1326</td>\n",
       "      <td>1340</td>\n",
       "      <td>3</td>\n",
       "      <td>157</td>\n",
       "      <td>49</td>\n",
       "      <td>1267</td>\n",
       "      <td>1198</td>\n",
       "    </tr>\n",
       "  </tbody>\n",
       "</table>\n",
       "</div>"
      ],
      "text/plain": [
       "       MSZoning Street Alley LotShape LandContour Utilities LotConfig  \\\n",
       "count      1460   1460    91     1460        1460      1460      1460   \n",
       "unique        5      2     2        4           4         2         5   \n",
       "top          RL   Pave  Grvl      Reg         Lvl    AllPub    Inside   \n",
       "freq       1151   1454    50      925        1311      1459      1052   \n",
       "\n",
       "       LandSlope Neighborhood Condition1 Condition2 BldgType HouseStyle  \\\n",
       "count       1460         1460       1460       1460     1460       1460   \n",
       "unique         3           25          9          8        5          8   \n",
       "top          Gtl        NAmes       Norm       Norm     1Fam     1Story   \n",
       "freq        1382          225       1260       1445     1220        726   \n",
       "\n",
       "       RoofStyle RoofMatl Exterior1st Exterior2nd MasVnrType ExterQual  \\\n",
       "count       1460     1460        1460        1460       1452      1460   \n",
       "unique         6        8          15          16          4         4   \n",
       "top        Gable  CompShg     VinylSd     VinylSd       None        TA   \n",
       "freq        1141     1434         515         504        864       906   \n",
       "\n",
       "       ExterCond Foundation BsmtQual BsmtCond BsmtExposure BsmtFinType1  \\\n",
       "count       1460       1460     1423     1423         1422         1423   \n",
       "unique         5          6        4        4            4            6   \n",
       "top           TA      PConc       TA       TA           No          Unf   \n",
       "freq        1282        647      649     1311          953          430   \n",
       "\n",
       "       BsmtFinType2 Heating HeatingQC CentralAir Electrical KitchenQual  \\\n",
       "count          1422    1460      1460       1460       1459        1460   \n",
       "unique            6       6         5          2          5           4   \n",
       "top             Unf    GasA        Ex          Y      SBrkr          TA   \n",
       "freq           1256    1428       741       1365       1334         735   \n",
       "\n",
       "       Functional FireplaceQu GarageType GarageFinish GarageQual GarageCond  \\\n",
       "count        1460         770       1379         1379       1379       1379   \n",
       "unique          7           5          6            3          5          5   \n",
       "top           Typ          Gd     Attchd          Unf         TA         TA   \n",
       "freq         1360         380        870          605       1311       1326   \n",
       "\n",
       "       PavedDrive PoolQC  Fence MiscFeature SaleType SaleCondition  \n",
       "count        1460      7    281          54     1460          1460  \n",
       "unique          3      3      4           4        9             6  \n",
       "top             Y     Gd  MnPrv        Shed       WD        Normal  \n",
       "freq         1340      3    157          49     1267          1198  "
      ]
     },
     "execution_count": 13,
     "metadata": {},
     "output_type": "execute_result"
    }
   ],
   "source": [
    "Home.describe(include=['object'])"
   ]
  },
  {
   "cell_type": "code",
   "execution_count": 5,
   "metadata": {},
   "outputs": [],
   "source": [
    "##Home.isnull().sum() >0"
   ]
  },
  {
   "cell_type": "code",
   "execution_count": 6,
   "metadata": {},
   "outputs": [],
   "source": [
    "##Home.info()"
   ]
  },
  {
   "cell_type": "code",
   "execution_count": 18,
   "metadata": {},
   "outputs": [
    {
     "name": "stdout",
     "output_type": "stream",
     "text": [
      "Total number of records: 1460\n",
      "Total No of columns with null values: 19\n",
      "PoolQC          1453\n",
      "MiscFeature     1406\n",
      "Alley           1369\n",
      "Fence           1179\n",
      "FireplaceQu      690\n",
      "LotFrontage      259\n",
      "GarageCond        81\n",
      "GarageType        81\n",
      "GarageYrBlt       81\n",
      "GarageFinish      81\n",
      "GarageQual        81\n",
      "BsmtExposure      38\n",
      "BsmtFinType2      38\n",
      "BsmtFinType1      37\n",
      "BsmtCond          37\n",
      "BsmtQual          37\n",
      "MasVnrArea         8\n",
      "MasVnrType         8\n",
      "Electrical         1\n",
      "dtype: int64\n"
     ]
    }
   ],
   "source": [
    "def find_null_values():\n",
    "    Null_Values = Home.isnull().sum().sort_values(ascending=False)\n",
    "    Null_Values = Null_Values[Null_Values > 0]\n",
    "    print ('Total number of records:', Home.shape[0])\n",
    "    print ('Total No of columns with null values:', Null_Values.shape[0])\n",
    "    print (Null_Values)\n",
    "        \n",
    "find_null_values()"
   ]
  },
  {
   "cell_type": "code",
   "execution_count": null,
   "metadata": {},
   "outputs": [],
   "source": []
  },
  {
   "cell_type": "code",
   "execution_count": null,
   "metadata": {},
   "outputs": [],
   "source": []
  },
  {
   "cell_type": "code",
   "execution_count": 8,
   "metadata": {},
   "outputs": [],
   "source": [
    "## let's work on one - by -one \n",
    "def find_colums(df, search):\n",
    "    match = [c for c in Home.co+lumns if search.lower() in c.lower()]\n",
    "    return match"
   ]
  },
  {
   "cell_type": "code",
   "execution_count": 9,
   "metadata": {},
   "outputs": [
    {
     "data": {
      "text/plain": [
       "['PoolArea', 'PoolQC']"
      ]
     },
     "execution_count": 9,
     "metadata": {},
     "output_type": "execute_result"
    }
   ],
   "source": [
    "find_colums(Home,\"Pool\")"
   ]
  },
  {
   "cell_type": "code",
   "execution_count": 10,
   "metadata": {},
   "outputs": [
    {
     "data": {
      "text/html": [
       "<div>\n",
       "<style scoped>\n",
       "    .dataframe tbody tr th:only-of-type {\n",
       "        vertical-align: middle;\n",
       "    }\n",
       "\n",
       "    .dataframe tbody tr th {\n",
       "        vertical-align: top;\n",
       "    }\n",
       "\n",
       "    .dataframe thead th {\n",
       "        text-align: right;\n",
       "    }\n",
       "</style>\n",
       "<table border=\"1\" class=\"dataframe\">\n",
       "  <thead>\n",
       "    <tr style=\"text-align: right;\">\n",
       "      <th></th>\n",
       "      <th>Id</th>\n",
       "      <th>MSSubClass</th>\n",
       "      <th>MSZoning</th>\n",
       "      <th>LotFrontage</th>\n",
       "      <th>LotArea</th>\n",
       "      <th>Street</th>\n",
       "      <th>Alley</th>\n",
       "      <th>LotShape</th>\n",
       "      <th>LandContour</th>\n",
       "      <th>Utilities</th>\n",
       "      <th>...</th>\n",
       "      <th>PoolArea</th>\n",
       "      <th>PoolQC</th>\n",
       "      <th>Fence</th>\n",
       "      <th>MiscFeature</th>\n",
       "      <th>MiscVal</th>\n",
       "      <th>MoSold</th>\n",
       "      <th>YrSold</th>\n",
       "      <th>SaleType</th>\n",
       "      <th>SaleCondition</th>\n",
       "      <th>SalePrice</th>\n",
       "    </tr>\n",
       "  </thead>\n",
       "  <tbody>\n",
       "  </tbody>\n",
       "</table>\n",
       "<p>0 rows × 81 columns</p>\n",
       "</div>"
      ],
      "text/plain": [
       "Empty DataFrame\n",
       "Columns: [Id, MSSubClass, MSZoning, LotFrontage, LotArea, Street, Alley, LotShape, LandContour, Utilities, LotConfig, LandSlope, Neighborhood, Condition1, Condition2, BldgType, HouseStyle, OverallQual, OverallCond, YearBuilt, YearRemodAdd, RoofStyle, RoofMatl, Exterior1st, Exterior2nd, MasVnrType, MasVnrArea, ExterQual, ExterCond, Foundation, BsmtQual, BsmtCond, BsmtExposure, BsmtFinType1, BsmtFinSF1, BsmtFinType2, BsmtFinSF2, BsmtUnfSF, TotalBsmtSF, Heating, HeatingQC, CentralAir, Electrical, 1stFlrSF, 2ndFlrSF, LowQualFinSF, GrLivArea, BsmtFullBath, BsmtHalfBath, FullBath, HalfBath, BedroomAbvGr, KitchenAbvGr, KitchenQual, TotRmsAbvGrd, Functional, Fireplaces, FireplaceQu, GarageType, GarageYrBlt, GarageFinish, GarageCars, GarageArea, GarageQual, GarageCond, PavedDrive, WoodDeckSF, OpenPorchSF, EnclosedPorch, 3SsnPorch, ScreenPorch, PoolArea, PoolQC, Fence, MiscFeature, MiscVal, MoSold, YrSold, SaleType, SaleCondition, SalePrice]\n",
       "Index: []\n",
       "\n",
       "[0 rows x 81 columns]"
      ]
     },
     "execution_count": 10,
     "metadata": {},
     "output_type": "execute_result"
    }
   ],
   "source": [
    "Home.query('PoolArea !=0 and PoolQC != PoolQC')"
   ]
  },
  {
   "cell_type": "code",
   "execution_count": 11,
   "metadata": {},
   "outputs": [
    {
     "data": {
      "text/plain": [
       "PoolArea\n",
       "0      0\n",
       "480    1\n",
       "512    1\n",
       "519    1\n",
       "555    1\n",
       "576    1\n",
       "648    1\n",
       "738    1\n",
       "Name: PoolQC, dtype: int64"
      ]
     },
     "execution_count": 11,
     "metadata": {},
     "output_type": "execute_result"
    }
   ],
   "source": [
    "Home.groupby('PoolArea').PoolQC.count()"
   ]
  },
  {
   "cell_type": "code",
   "execution_count": 12,
   "metadata": {},
   "outputs": [
    {
     "data": {
      "text/plain": [
       "(1453, 81)"
      ]
     },
     "execution_count": 12,
     "metadata": {},
     "output_type": "execute_result"
    }
   ],
   "source": [
    "Home.query('PoolArea ==0').shape"
   ]
  },
  {
   "cell_type": "code",
   "execution_count": 13,
   "metadata": {},
   "outputs": [],
   "source": [
    "Pool_Index= Home.query('PoolArea ==0').index"
   ]
  },
  {
   "cell_type": "code",
   "execution_count": 14,
   "metadata": {},
   "outputs": [
    {
     "data": {
      "text/plain": [
       "(1453,)"
      ]
     },
     "execution_count": 14,
     "metadata": {},
     "output_type": "execute_result"
    }
   ],
   "source": [
    "Pool_Index.shape"
   ]
  },
  {
   "cell_type": "code",
   "execution_count": 15,
   "metadata": {},
   "outputs": [],
   "source": [
    "for i in Pool_Index:\n",
    "     Home.loc[i,'PoolQC'] = \"None\""
   ]
  },
  {
   "cell_type": "code",
   "execution_count": 16,
   "metadata": {},
   "outputs": [
    {
     "name": "stdout",
     "output_type": "stream",
     "text": [
      "Total number of records: 1460\n",
      "Total No of columns with null values: 18\n",
      "MiscFeature     1406\n",
      "Alley           1369\n",
      "Fence           1179\n",
      "FireplaceQu      690\n",
      "LotFrontage      259\n",
      "GarageType        81\n",
      "GarageQual        81\n",
      "GarageCond        81\n",
      "GarageFinish      81\n",
      "GarageYrBlt       81\n",
      "BsmtExposure      38\n",
      "BsmtFinType2      38\n",
      "BsmtQual          37\n",
      "BsmtCond          37\n",
      "BsmtFinType1      37\n",
      "MasVnrArea         8\n",
      "MasVnrType         8\n",
      "Electrical         1\n",
      "dtype: int64\n"
     ]
    }
   ],
   "source": [
    "find_null_values() ### PoolQC is clear"
   ]
  },
  {
   "cell_type": "code",
   "execution_count": 17,
   "metadata": {},
   "outputs": [
    {
     "data": {
      "text/html": [
       "<div>\n",
       "<style scoped>\n",
       "    .dataframe tbody tr th:only-of-type {\n",
       "        vertical-align: middle;\n",
       "    }\n",
       "\n",
       "    .dataframe tbody tr th {\n",
       "        vertical-align: top;\n",
       "    }\n",
       "\n",
       "    .dataframe thead th {\n",
       "        text-align: right;\n",
       "    }\n",
       "</style>\n",
       "<table border=\"1\" class=\"dataframe\">\n",
       "  <thead>\n",
       "    <tr style=\"text-align: right;\">\n",
       "      <th></th>\n",
       "      <th>Id</th>\n",
       "      <th>MSSubClass</th>\n",
       "      <th>MSZoning</th>\n",
       "      <th>LotFrontage</th>\n",
       "      <th>LotArea</th>\n",
       "      <th>Street</th>\n",
       "      <th>Alley</th>\n",
       "      <th>LotShape</th>\n",
       "      <th>LandContour</th>\n",
       "      <th>Utilities</th>\n",
       "      <th>...</th>\n",
       "      <th>PoolArea</th>\n",
       "      <th>PoolQC</th>\n",
       "      <th>Fence</th>\n",
       "      <th>MiscFeature</th>\n",
       "      <th>MiscVal</th>\n",
       "      <th>MoSold</th>\n",
       "      <th>YrSold</th>\n",
       "      <th>SaleType</th>\n",
       "      <th>SaleCondition</th>\n",
       "      <th>SalePrice</th>\n",
       "    </tr>\n",
       "  </thead>\n",
       "  <tbody>\n",
       "    <tr>\n",
       "      <th>0</th>\n",
       "      <td>1</td>\n",
       "      <td>60</td>\n",
       "      <td>RL</td>\n",
       "      <td>65.0</td>\n",
       "      <td>8450</td>\n",
       "      <td>Pave</td>\n",
       "      <td>NaN</td>\n",
       "      <td>Reg</td>\n",
       "      <td>Lvl</td>\n",
       "      <td>AllPub</td>\n",
       "      <td>...</td>\n",
       "      <td>0</td>\n",
       "      <td>None</td>\n",
       "      <td>NaN</td>\n",
       "      <td>NaN</td>\n",
       "      <td>0</td>\n",
       "      <td>2</td>\n",
       "      <td>2008</td>\n",
       "      <td>WD</td>\n",
       "      <td>Normal</td>\n",
       "      <td>208500</td>\n",
       "    </tr>\n",
       "    <tr>\n",
       "      <th>1</th>\n",
       "      <td>2</td>\n",
       "      <td>20</td>\n",
       "      <td>RL</td>\n",
       "      <td>80.0</td>\n",
       "      <td>9600</td>\n",
       "      <td>Pave</td>\n",
       "      <td>NaN</td>\n",
       "      <td>Reg</td>\n",
       "      <td>Lvl</td>\n",
       "      <td>AllPub</td>\n",
       "      <td>...</td>\n",
       "      <td>0</td>\n",
       "      <td>None</td>\n",
       "      <td>NaN</td>\n",
       "      <td>NaN</td>\n",
       "      <td>0</td>\n",
       "      <td>5</td>\n",
       "      <td>2007</td>\n",
       "      <td>WD</td>\n",
       "      <td>Normal</td>\n",
       "      <td>181500</td>\n",
       "    </tr>\n",
       "    <tr>\n",
       "      <th>2</th>\n",
       "      <td>3</td>\n",
       "      <td>60</td>\n",
       "      <td>RL</td>\n",
       "      <td>68.0</td>\n",
       "      <td>11250</td>\n",
       "      <td>Pave</td>\n",
       "      <td>NaN</td>\n",
       "      <td>IR1</td>\n",
       "      <td>Lvl</td>\n",
       "      <td>AllPub</td>\n",
       "      <td>...</td>\n",
       "      <td>0</td>\n",
       "      <td>None</td>\n",
       "      <td>NaN</td>\n",
       "      <td>NaN</td>\n",
       "      <td>0</td>\n",
       "      <td>9</td>\n",
       "      <td>2008</td>\n",
       "      <td>WD</td>\n",
       "      <td>Normal</td>\n",
       "      <td>223500</td>\n",
       "    </tr>\n",
       "    <tr>\n",
       "      <th>3</th>\n",
       "      <td>4</td>\n",
       "      <td>70</td>\n",
       "      <td>RL</td>\n",
       "      <td>60.0</td>\n",
       "      <td>9550</td>\n",
       "      <td>Pave</td>\n",
       "      <td>NaN</td>\n",
       "      <td>IR1</td>\n",
       "      <td>Lvl</td>\n",
       "      <td>AllPub</td>\n",
       "      <td>...</td>\n",
       "      <td>0</td>\n",
       "      <td>None</td>\n",
       "      <td>NaN</td>\n",
       "      <td>NaN</td>\n",
       "      <td>0</td>\n",
       "      <td>2</td>\n",
       "      <td>2006</td>\n",
       "      <td>WD</td>\n",
       "      <td>Abnorml</td>\n",
       "      <td>140000</td>\n",
       "    </tr>\n",
       "    <tr>\n",
       "      <th>4</th>\n",
       "      <td>5</td>\n",
       "      <td>60</td>\n",
       "      <td>RL</td>\n",
       "      <td>84.0</td>\n",
       "      <td>14260</td>\n",
       "      <td>Pave</td>\n",
       "      <td>NaN</td>\n",
       "      <td>IR1</td>\n",
       "      <td>Lvl</td>\n",
       "      <td>AllPub</td>\n",
       "      <td>...</td>\n",
       "      <td>0</td>\n",
       "      <td>None</td>\n",
       "      <td>NaN</td>\n",
       "      <td>NaN</td>\n",
       "      <td>0</td>\n",
       "      <td>12</td>\n",
       "      <td>2008</td>\n",
       "      <td>WD</td>\n",
       "      <td>Normal</td>\n",
       "      <td>250000</td>\n",
       "    </tr>\n",
       "  </tbody>\n",
       "</table>\n",
       "<p>5 rows × 81 columns</p>\n",
       "</div>"
      ],
      "text/plain": [
       "   Id  MSSubClass MSZoning  LotFrontage  LotArea Street Alley LotShape  \\\n",
       "0   1          60       RL         65.0     8450   Pave   NaN      Reg   \n",
       "1   2          20       RL         80.0     9600   Pave   NaN      Reg   \n",
       "2   3          60       RL         68.0    11250   Pave   NaN      IR1   \n",
       "3   4          70       RL         60.0     9550   Pave   NaN      IR1   \n",
       "4   5          60       RL         84.0    14260   Pave   NaN      IR1   \n",
       "\n",
       "  LandContour Utilities    ...     PoolArea PoolQC Fence MiscFeature MiscVal  \\\n",
       "0         Lvl    AllPub    ...            0   None   NaN         NaN       0   \n",
       "1         Lvl    AllPub    ...            0   None   NaN         NaN       0   \n",
       "2         Lvl    AllPub    ...            0   None   NaN         NaN       0   \n",
       "3         Lvl    AllPub    ...            0   None   NaN         NaN       0   \n",
       "4         Lvl    AllPub    ...            0   None   NaN         NaN       0   \n",
       "\n",
       "  MoSold YrSold  SaleType  SaleCondition  SalePrice  \n",
       "0      2   2008        WD         Normal     208500  \n",
       "1      5   2007        WD         Normal     181500  \n",
       "2      9   2008        WD         Normal     223500  \n",
       "3      2   2006        WD        Abnorml     140000  \n",
       "4     12   2008        WD         Normal     250000  \n",
       "\n",
       "[5 rows x 81 columns]"
      ]
     },
     "execution_count": 17,
     "metadata": {},
     "output_type": "execute_result"
    }
   ],
   "source": [
    "Home.query('PoolArea == 0').head(5)"
   ]
  },
  {
   "cell_type": "code",
   "execution_count": 18,
   "metadata": {},
   "outputs": [
    {
     "data": {
      "text/html": [
       "<div>\n",
       "<style scoped>\n",
       "    .dataframe tbody tr th:only-of-type {\n",
       "        vertical-align: middle;\n",
       "    }\n",
       "\n",
       "    .dataframe tbody tr th {\n",
       "        vertical-align: top;\n",
       "    }\n",
       "\n",
       "    .dataframe thead th {\n",
       "        text-align: right;\n",
       "    }\n",
       "</style>\n",
       "<table border=\"1\" class=\"dataframe\">\n",
       "  <thead>\n",
       "    <tr style=\"text-align: right;\">\n",
       "      <th></th>\n",
       "      <th>GarageType</th>\n",
       "      <th>GarageYrBlt</th>\n",
       "      <th>GarageFinish</th>\n",
       "      <th>GarageCars</th>\n",
       "      <th>GarageArea</th>\n",
       "      <th>GarageQual</th>\n",
       "      <th>GarageCond</th>\n",
       "    </tr>\n",
       "  </thead>\n",
       "  <tbody>\n",
       "    <tr>\n",
       "      <th>0</th>\n",
       "      <td>Attchd</td>\n",
       "      <td>2003.0</td>\n",
       "      <td>RFn</td>\n",
       "      <td>2</td>\n",
       "      <td>548</td>\n",
       "      <td>TA</td>\n",
       "      <td>TA</td>\n",
       "    </tr>\n",
       "    <tr>\n",
       "      <th>1</th>\n",
       "      <td>Attchd</td>\n",
       "      <td>1976.0</td>\n",
       "      <td>RFn</td>\n",
       "      <td>2</td>\n",
       "      <td>460</td>\n",
       "      <td>TA</td>\n",
       "      <td>TA</td>\n",
       "    </tr>\n",
       "    <tr>\n",
       "      <th>2</th>\n",
       "      <td>Attchd</td>\n",
       "      <td>2001.0</td>\n",
       "      <td>RFn</td>\n",
       "      <td>2</td>\n",
       "      <td>608</td>\n",
       "      <td>TA</td>\n",
       "      <td>TA</td>\n",
       "    </tr>\n",
       "    <tr>\n",
       "      <th>3</th>\n",
       "      <td>Detchd</td>\n",
       "      <td>1998.0</td>\n",
       "      <td>Unf</td>\n",
       "      <td>3</td>\n",
       "      <td>642</td>\n",
       "      <td>TA</td>\n",
       "      <td>TA</td>\n",
       "    </tr>\n",
       "    <tr>\n",
       "      <th>4</th>\n",
       "      <td>Attchd</td>\n",
       "      <td>2000.0</td>\n",
       "      <td>RFn</td>\n",
       "      <td>3</td>\n",
       "      <td>836</td>\n",
       "      <td>TA</td>\n",
       "      <td>TA</td>\n",
       "    </tr>\n",
       "  </tbody>\n",
       "</table>\n",
       "</div>"
      ],
      "text/plain": [
       "  GarageType  GarageYrBlt GarageFinish  GarageCars  GarageArea GarageQual  \\\n",
       "0     Attchd       2003.0          RFn           2         548         TA   \n",
       "1     Attchd       1976.0          RFn           2         460         TA   \n",
       "2     Attchd       2001.0          RFn           2         608         TA   \n",
       "3     Detchd       1998.0          Unf           3         642         TA   \n",
       "4     Attchd       2000.0          RFn           3         836         TA   \n",
       "\n",
       "  GarageCond  \n",
       "0         TA  \n",
       "1         TA  \n",
       "2         TA  \n",
       "3         TA  \n",
       "4         TA  "
      ]
     },
     "execution_count": 18,
     "metadata": {},
     "output_type": "execute_result"
    }
   ],
   "source": [
    "### Working on Garage STUFF\n",
    "Home.filter(like='Garage', axis=1).head(5)"
   ]
  },
  {
   "cell_type": "code",
   "execution_count": 19,
   "metadata": {},
   "outputs": [
    {
     "data": {
      "text/plain": [
       "(81, 6)"
      ]
     },
     "execution_count": 19,
     "metadata": {},
     "output_type": "execute_result"
    }
   ],
   "source": [
    "Home.query('GarageCars == 0')[['GarageType','GarageYrBlt','GarageFinish','GarageArea','GarageQual','GarageCond']].shape"
   ]
  },
  {
   "cell_type": "code",
   "execution_count": 20,
   "metadata": {},
   "outputs": [
    {
     "data": {
      "text/plain": [
       "2    824\n",
       "1    369\n",
       "3    181\n",
       "0     81\n",
       "4      5\n",
       "Name: GarageCars, dtype: int64"
      ]
     },
     "execution_count": 20,
     "metadata": {},
     "output_type": "execute_result"
    }
   ],
   "source": [
    "Home['GarageCars'].value_counts() #### Seems if GarageCars =0 then Null for rest of the Gragae Stuff (GarageType        81\n",
    "                                ##  GarageQual        81\n",
    "                                  ##  GarageCond        81\n",
    "                                   ## GarageFinish      81\n",
    "                                    ### GarageYrBlt       81)"
   ]
  },
  {
   "cell_type": "code",
   "execution_count": 21,
   "metadata": {},
   "outputs": [],
   "source": [
    "#### Get the index's to replace the data \n",
    "Garage_Index=Home.query('GarageCars == 0')[['GarageType','GarageQual','GarageCond','GarageFinish','GarageYrBlt']].index\n",
    "\n",
    "for i in Garage_Index:\n",
    "    Home.loc[i,['GarageType','GarageQual','GarageCond','GarageFinish','GarageYrBlt']] = \"None\" "
   ]
  },
  {
   "cell_type": "code",
   "execution_count": 22,
   "metadata": {},
   "outputs": [
    {
     "name": "stdout",
     "output_type": "stream",
     "text": [
      "Total number of records: 1460\n",
      "Total No of columns with null values: 13\n",
      "MiscFeature     1406\n",
      "Alley           1369\n",
      "Fence           1179\n",
      "FireplaceQu      690\n",
      "LotFrontage      259\n",
      "BsmtFinType2      38\n",
      "BsmtExposure      38\n",
      "BsmtCond          37\n",
      "BsmtQual          37\n",
      "BsmtFinType1      37\n",
      "MasVnrType         8\n",
      "MasVnrArea         8\n",
      "Electrical         1\n",
      "dtype: int64\n"
     ]
    }
   ],
   "source": [
    "find_null_values() ###Garage stuff is cleared"
   ]
  },
  {
   "cell_type": "code",
   "execution_count": 23,
   "metadata": {},
   "outputs": [
    {
     "data": {
      "text/html": [
       "<div>\n",
       "<style scoped>\n",
       "    .dataframe tbody tr th:only-of-type {\n",
       "        vertical-align: middle;\n",
       "    }\n",
       "\n",
       "    .dataframe tbody tr th {\n",
       "        vertical-align: top;\n",
       "    }\n",
       "\n",
       "    .dataframe thead th {\n",
       "        text-align: right;\n",
       "    }\n",
       "</style>\n",
       "<table border=\"1\" class=\"dataframe\">\n",
       "  <thead>\n",
       "    <tr style=\"text-align: right;\">\n",
       "      <th></th>\n",
       "      <th>GarageType</th>\n",
       "      <th>GarageQual</th>\n",
       "      <th>GarageCond</th>\n",
       "      <th>GarageFinish</th>\n",
       "      <th>GarageYrBlt</th>\n",
       "      <th>GarageCars</th>\n",
       "    </tr>\n",
       "  </thead>\n",
       "  <tbody>\n",
       "    <tr>\n",
       "      <th>39</th>\n",
       "      <td>None</td>\n",
       "      <td>None</td>\n",
       "      <td>None</td>\n",
       "      <td>None</td>\n",
       "      <td>None</td>\n",
       "      <td>0</td>\n",
       "    </tr>\n",
       "    <tr>\n",
       "      <th>48</th>\n",
       "      <td>None</td>\n",
       "      <td>None</td>\n",
       "      <td>None</td>\n",
       "      <td>None</td>\n",
       "      <td>None</td>\n",
       "      <td>0</td>\n",
       "    </tr>\n",
       "    <tr>\n",
       "      <th>78</th>\n",
       "      <td>None</td>\n",
       "      <td>None</td>\n",
       "      <td>None</td>\n",
       "      <td>None</td>\n",
       "      <td>None</td>\n",
       "      <td>0</td>\n",
       "    </tr>\n",
       "    <tr>\n",
       "      <th>88</th>\n",
       "      <td>None</td>\n",
       "      <td>None</td>\n",
       "      <td>None</td>\n",
       "      <td>None</td>\n",
       "      <td>None</td>\n",
       "      <td>0</td>\n",
       "    </tr>\n",
       "    <tr>\n",
       "      <th>89</th>\n",
       "      <td>None</td>\n",
       "      <td>None</td>\n",
       "      <td>None</td>\n",
       "      <td>None</td>\n",
       "      <td>None</td>\n",
       "      <td>0</td>\n",
       "    </tr>\n",
       "  </tbody>\n",
       "</table>\n",
       "</div>"
      ],
      "text/plain": [
       "   GarageType GarageQual GarageCond GarageFinish GarageYrBlt  GarageCars\n",
       "39       None       None       None         None        None           0\n",
       "48       None       None       None         None        None           0\n",
       "78       None       None       None         None        None           0\n",
       "88       None       None       None         None        None           0\n",
       "89       None       None       None         None        None           0"
      ]
     },
     "execution_count": 23,
     "metadata": {},
     "output_type": "execute_result"
    }
   ],
   "source": [
    "### Validating the data\n",
    "Home.query('GarageCars == 0')[['GarageType','GarageQual','GarageCond','GarageFinish','GarageYrBlt','GarageCars']].head()"
   ]
  },
  {
   "cell_type": "code",
   "execution_count": 24,
   "metadata": {},
   "outputs": [],
   "source": [
    "Bsmt_Index= Home.query('BsmtFinType2 != BsmtFinType2 and BsmtExposure != BsmtExposure')[['BsmtFinType2','BsmtExposure','BsmtCond','BsmtQual','BsmtFinType1']].index\n",
    "\n",
    "for i in Bsmt_Index:\n",
    "    Home.loc[i,['BsmtFinType2','BsmtExposure','BsmtCond','BsmtQual','BsmtFinType1']] = \"None\" "
   ]
  },
  {
   "cell_type": "code",
   "execution_count": 25,
   "metadata": {},
   "outputs": [
    {
     "name": "stdout",
     "output_type": "stream",
     "text": [
      "Total number of records: 1460\n",
      "Total No of columns with null values: 10\n",
      "MiscFeature     1406\n",
      "Alley           1369\n",
      "Fence           1179\n",
      "FireplaceQu      690\n",
      "LotFrontage      259\n",
      "MasVnrArea         8\n",
      "MasVnrType         8\n",
      "BsmtFinType2       1\n",
      "Electrical         1\n",
      "BsmtExposure       1\n",
      "dtype: int64\n"
     ]
    }
   ],
   "source": [
    "find_null_values() ###Bsmt stuff is cleared"
   ]
  },
  {
   "cell_type": "code",
   "execution_count": 26,
   "metadata": {},
   "outputs": [
    {
     "data": {
      "text/plain": [
       "Grvl    50\n",
       "Pave    41\n",
       "Name: Alley, dtype: int64"
      ]
     },
     "execution_count": 26,
     "metadata": {},
     "output_type": "execute_result"
    }
   ],
   "source": [
    "Home['Alley'].value_counts()"
   ]
  },
  {
   "cell_type": "code",
   "execution_count": 27,
   "metadata": {},
   "outputs": [],
   "source": [
    "### Replace defult values \n",
    "\n",
    "def replace_with(df, col, fill_with):\n",
    "    idx = df[df[col].isnull()].index\n",
    "    df.loc[idx, col] = fill_with\n"
   ]
  },
  {
   "cell_type": "code",
   "execution_count": 28,
   "metadata": {},
   "outputs": [],
   "source": [
    "replace_with(Home,'Alley','None')\n",
    "replace_with(Home,'MiscFeature','None')\n",
    "replace_with(Home,'Fence','None')\n"
   ]
  },
  {
   "cell_type": "code",
   "execution_count": 29,
   "metadata": {},
   "outputs": [
    {
     "name": "stdout",
     "output_type": "stream",
     "text": [
      "Total number of records: 1460\n",
      "Total No of columns with null values: 7\n",
      "FireplaceQu     690\n",
      "LotFrontage     259\n",
      "MasVnrType        8\n",
      "MasVnrArea        8\n",
      "Electrical        1\n",
      "BsmtFinType2      1\n",
      "BsmtExposure      1\n",
      "dtype: int64\n"
     ]
    }
   ],
   "source": [
    "find_null_values() ###Alley & MiscFeature stuff is cleared"
   ]
  },
  {
   "cell_type": "code",
   "execution_count": 30,
   "metadata": {},
   "outputs": [
    {
     "data": {
      "text/html": [
       "<div>\n",
       "<style scoped>\n",
       "    .dataframe tbody tr th:only-of-type {\n",
       "        vertical-align: middle;\n",
       "    }\n",
       "\n",
       "    .dataframe tbody tr th {\n",
       "        vertical-align: top;\n",
       "    }\n",
       "\n",
       "    .dataframe thead th {\n",
       "        text-align: right;\n",
       "    }\n",
       "</style>\n",
       "<table border=\"1\" class=\"dataframe\">\n",
       "  <thead>\n",
       "    <tr style=\"text-align: right;\">\n",
       "      <th></th>\n",
       "      <th>Fireplaces</th>\n",
       "      <th>FireplaceQu</th>\n",
       "    </tr>\n",
       "  </thead>\n",
       "  <tbody>\n",
       "    <tr>\n",
       "      <th>0</th>\n",
       "      <td>0</td>\n",
       "      <td>NaN</td>\n",
       "    </tr>\n",
       "    <tr>\n",
       "      <th>1</th>\n",
       "      <td>1</td>\n",
       "      <td>TA</td>\n",
       "    </tr>\n",
       "    <tr>\n",
       "      <th>2</th>\n",
       "      <td>1</td>\n",
       "      <td>TA</td>\n",
       "    </tr>\n",
       "    <tr>\n",
       "      <th>3</th>\n",
       "      <td>1</td>\n",
       "      <td>Gd</td>\n",
       "    </tr>\n",
       "    <tr>\n",
       "      <th>4</th>\n",
       "      <td>1</td>\n",
       "      <td>TA</td>\n",
       "    </tr>\n",
       "  </tbody>\n",
       "</table>\n",
       "</div>"
      ],
      "text/plain": [
       "   Fireplaces FireplaceQu\n",
       "0           0         NaN\n",
       "1           1          TA\n",
       "2           1          TA\n",
       "3           1          Gd\n",
       "4           1          TA"
      ]
     },
     "execution_count": 30,
     "metadata": {},
     "output_type": "execute_result"
    }
   ],
   "source": [
    "Home.filter(like='Fire', axis=1).head(5)"
   ]
  },
  {
   "cell_type": "code",
   "execution_count": 31,
   "metadata": {},
   "outputs": [
    {
     "data": {
      "text/plain": [
       "Fireplaces\n",
       "0      0\n",
       "1    650\n",
       "2    115\n",
       "3      5\n",
       "Name: FireplaceQu, dtype: int64"
      ]
     },
     "execution_count": 31,
     "metadata": {},
     "output_type": "execute_result"
    }
   ],
   "source": [
    "Home.groupby('Fireplaces').FireplaceQu.count()"
   ]
  },
  {
   "cell_type": "code",
   "execution_count": 32,
   "metadata": {},
   "outputs": [
    {
     "data": {
      "text/plain": [
       "(690,)"
      ]
     },
     "execution_count": 32,
     "metadata": {},
     "output_type": "execute_result"
    }
   ],
   "source": [
    "Home.query('Fireplaces ==0')['FireplaceQu'].isnull().shape"
   ]
  },
  {
   "cell_type": "code",
   "execution_count": 33,
   "metadata": {},
   "outputs": [],
   "source": [
    "replace_with(Home,'FireplaceQu','None')"
   ]
  },
  {
   "cell_type": "code",
   "execution_count": 34,
   "metadata": {},
   "outputs": [
    {
     "name": "stdout",
     "output_type": "stream",
     "text": [
      "Total number of records: 1460\n",
      "Total No of columns with null values: 6\n",
      "LotFrontage     259\n",
      "MasVnrType        8\n",
      "MasVnrArea        8\n",
      "Electrical        1\n",
      "BsmtFinType2      1\n",
      "BsmtExposure      1\n",
      "dtype: int64\n"
     ]
    }
   ],
   "source": [
    "find_null_values() ### FireplaceQu stuff is cleared"
   ]
  },
  {
   "cell_type": "code",
   "execution_count": 35,
   "metadata": {
    "scrolled": true
   },
   "outputs": [
    {
     "data": {
      "text/html": [
       "<div>\n",
       "<style scoped>\n",
       "    .dataframe tbody tr th:only-of-type {\n",
       "        vertical-align: middle;\n",
       "    }\n",
       "\n",
       "    .dataframe tbody tr th {\n",
       "        vertical-align: top;\n",
       "    }\n",
       "\n",
       "    .dataframe thead th {\n",
       "        text-align: right;\n",
       "    }\n",
       "</style>\n",
       "<table border=\"1\" class=\"dataframe\">\n",
       "  <thead>\n",
       "    <tr style=\"text-align: right;\">\n",
       "      <th></th>\n",
       "      <th>LotFrontage</th>\n",
       "      <th>LotArea</th>\n",
       "      <th>LotShape</th>\n",
       "      <th>LotConfig</th>\n",
       "    </tr>\n",
       "  </thead>\n",
       "  <tbody>\n",
       "    <tr>\n",
       "      <th>0</th>\n",
       "      <td>65.0</td>\n",
       "      <td>8450</td>\n",
       "      <td>Reg</td>\n",
       "      <td>Inside</td>\n",
       "    </tr>\n",
       "    <tr>\n",
       "      <th>1</th>\n",
       "      <td>80.0</td>\n",
       "      <td>9600</td>\n",
       "      <td>Reg</td>\n",
       "      <td>FR2</td>\n",
       "    </tr>\n",
       "    <tr>\n",
       "      <th>2</th>\n",
       "      <td>68.0</td>\n",
       "      <td>11250</td>\n",
       "      <td>IR1</td>\n",
       "      <td>Inside</td>\n",
       "    </tr>\n",
       "    <tr>\n",
       "      <th>3</th>\n",
       "      <td>60.0</td>\n",
       "      <td>9550</td>\n",
       "      <td>IR1</td>\n",
       "      <td>Corner</td>\n",
       "    </tr>\n",
       "    <tr>\n",
       "      <th>4</th>\n",
       "      <td>84.0</td>\n",
       "      <td>14260</td>\n",
       "      <td>IR1</td>\n",
       "      <td>FR2</td>\n",
       "    </tr>\n",
       "  </tbody>\n",
       "</table>\n",
       "</div>"
      ],
      "text/plain": [
       "   LotFrontage  LotArea LotShape LotConfig\n",
       "0         65.0     8450      Reg    Inside\n",
       "1         80.0     9600      Reg       FR2\n",
       "2         68.0    11250      IR1    Inside\n",
       "3         60.0     9550      IR1    Corner\n",
       "4         84.0    14260      IR1       FR2"
      ]
     },
     "execution_count": 35,
     "metadata": {},
     "output_type": "execute_result"
    }
   ],
   "source": [
    "Home.filter(like='Lot',axis=1).head(5)"
   ]
  },
  {
   "cell_type": "code",
   "execution_count": 36,
   "metadata": {},
   "outputs": [
    {
     "data": {
      "text/plain": [
       "Index(['LotFrontage', 'LotArea', 'LotShape', 'LotConfig'], dtype='object')"
      ]
     },
     "execution_count": 36,
     "metadata": {},
     "output_type": "execute_result"
    }
   ],
   "source": [
    "Lot_list=Home.filter(like='Lot',axis=1)\n",
    "Lot_list.columns"
   ]
  },
  {
   "cell_type": "code",
   "execution_count": 37,
   "metadata": {},
   "outputs": [
    {
     "data": {
      "text/plain": [
       "(259, 4)"
      ]
     },
     "execution_count": 37,
     "metadata": {},
     "output_type": "execute_result"
    }
   ],
   "source": [
    "Home.query('LotFrontage !=LotFrontage')[list(Lot_list)].isnull().shape"
   ]
  },
  {
   "cell_type": "code",
   "execution_count": 38,
   "metadata": {},
   "outputs": [
    {
     "data": {
      "text/plain": [
       "LotShape\n",
       "IR1    484\n",
       "IR2     41\n",
       "IR3     10\n",
       "Reg    925\n",
       "Name: LotArea, dtype: int64"
      ]
     },
     "execution_count": 38,
     "metadata": {},
     "output_type": "execute_result"
    }
   ],
   "source": [
    "Home.groupby('LotShape').LotArea.count()"
   ]
  },
  {
   "cell_type": "code",
   "execution_count": 39,
   "metadata": {},
   "outputs": [
    {
     "data": {
      "text/plain": [
       "LotShape\n",
       "IR1     76.094637\n",
       "IR2     76.500000\n",
       "IR3    138.428571\n",
       "Reg     67.038778\n",
       "Name: LotFrontage, dtype: float64"
      ]
     },
     "execution_count": 39,
     "metadata": {},
     "output_type": "execute_result"
    }
   ],
   "source": [
    "Home.groupby('LotShape').LotFrontage.agg(np.mean)"
   ]
  },
  {
   "cell_type": "code",
   "execution_count": 40,
   "metadata": {},
   "outputs": [],
   "source": [
    "LotShape_IR1=Home.query('LotFrontage != LotFrontage and LotShape==\"IR1\"').isnull()['LotFrontage'].index\n",
    "LotShape_IR2=Home.query('LotFrontage != LotFrontage and LotShape==\"IR2\"').isnull()['LotFrontage'].index"
   ]
  },
  {
   "cell_type": "code",
   "execution_count": 41,
   "metadata": {},
   "outputs": [
    {
     "data": {
      "text/plain": [
       "((167,), (15,))"
      ]
     },
     "execution_count": 41,
     "metadata": {},
     "output_type": "execute_result"
    }
   ],
   "source": [
    "LotShape_IR1.shape,LotShape_IR2.shape"
   ]
  },
  {
   "cell_type": "code",
   "execution_count": 42,
   "metadata": {},
   "outputs": [],
   "source": [
    "for i in LotShape_IR1:\n",
    "    Home.loc[i,'LotFrontage'] = 76\n",
    "   \n",
    "for i in LotShape_IR2:\n",
    "    Home.loc[i,'LotFrontage'] = 76 "
   ]
  },
  {
   "cell_type": "code",
   "execution_count": 43,
   "metadata": {},
   "outputs": [
    {
     "name": "stdout",
     "output_type": "stream",
     "text": [
      "Total number of records: 1460\n",
      "Total No of columns with null values: 6\n",
      "LotFrontage     77\n",
      "MasVnrType       8\n",
      "MasVnrArea       8\n",
      "Electrical       1\n",
      "BsmtFinType2     1\n",
      "BsmtExposure     1\n",
      "dtype: int64\n"
     ]
    }
   ],
   "source": [
    "find_null_values() ### FireplaceQu stuff is cleared"
   ]
  },
  {
   "cell_type": "code",
   "execution_count": 44,
   "metadata": {},
   "outputs": [],
   "source": [
    "LotShape_IR3=Home.query('LotFrontage != LotFrontage and LotShape==\"IR3\"').isnull()['LotFrontage'].index\n",
    "LotShape_IR4=Home.query('LotFrontage != LotFrontage and LotShape==\"Reg\"').isnull()['LotFrontage'].index"
   ]
  },
  {
   "cell_type": "code",
   "execution_count": 45,
   "metadata": {},
   "outputs": [],
   "source": [
    "for i in LotShape_IR3:\n",
    "    Home.loc[i,'LotFrontage'] = 138\n",
    "   \n",
    "for i in LotShape_IR4:\n",
    "    Home.loc[i,'LotFrontage'] = 67 "
   ]
  },
  {
   "cell_type": "code",
   "execution_count": 46,
   "metadata": {},
   "outputs": [
    {
     "name": "stdout",
     "output_type": "stream",
     "text": [
      "Total number of records: 1460\n",
      "Total No of columns with null values: 5\n",
      "MasVnrType      8\n",
      "MasVnrArea      8\n",
      "Electrical      1\n",
      "BsmtFinType2    1\n",
      "BsmtExposure    1\n",
      "dtype: int64\n"
     ]
    }
   ],
   "source": [
    "find_null_values() ### LotShape stuff is cleared"
   ]
  },
  {
   "cell_type": "code",
   "execution_count": 47,
   "metadata": {},
   "outputs": [
    {
     "data": {
      "text/html": [
       "<div>\n",
       "<style scoped>\n",
       "    .dataframe tbody tr th:only-of-type {\n",
       "        vertical-align: middle;\n",
       "    }\n",
       "\n",
       "    .dataframe tbody tr th {\n",
       "        vertical-align: top;\n",
       "    }\n",
       "\n",
       "    .dataframe thead th {\n",
       "        text-align: right;\n",
       "    }\n",
       "</style>\n",
       "<table border=\"1\" class=\"dataframe\">\n",
       "  <thead>\n",
       "    <tr style=\"text-align: right;\">\n",
       "      <th></th>\n",
       "      <th>MasVnrType</th>\n",
       "      <th>MasVnrArea</th>\n",
       "    </tr>\n",
       "  </thead>\n",
       "  <tbody>\n",
       "    <tr>\n",
       "      <th>0</th>\n",
       "      <td>BrkFace</td>\n",
       "      <td>196.0</td>\n",
       "    </tr>\n",
       "    <tr>\n",
       "      <th>1</th>\n",
       "      <td>None</td>\n",
       "      <td>0.0</td>\n",
       "    </tr>\n",
       "    <tr>\n",
       "      <th>2</th>\n",
       "      <td>BrkFace</td>\n",
       "      <td>162.0</td>\n",
       "    </tr>\n",
       "    <tr>\n",
       "      <th>3</th>\n",
       "      <td>None</td>\n",
       "      <td>0.0</td>\n",
       "    </tr>\n",
       "    <tr>\n",
       "      <th>4</th>\n",
       "      <td>BrkFace</td>\n",
       "      <td>350.0</td>\n",
       "    </tr>\n",
       "  </tbody>\n",
       "</table>\n",
       "</div>"
      ],
      "text/plain": [
       "  MasVnrType  MasVnrArea\n",
       "0    BrkFace       196.0\n",
       "1       None         0.0\n",
       "2    BrkFace       162.0\n",
       "3       None         0.0\n",
       "4    BrkFace       350.0"
      ]
     },
     "execution_count": 47,
     "metadata": {},
     "output_type": "execute_result"
    }
   ],
   "source": [
    "Home.filter(like='Mas').head(5) ### By looking at the data MasVnrArea is 0 the type equal to None"
   ]
  },
  {
   "cell_type": "code",
   "execution_count": 48,
   "metadata": {},
   "outputs": [
    {
     "data": {
      "text/plain": [
       "(8,)"
      ]
     },
     "execution_count": 48,
     "metadata": {},
     "output_type": "execute_result"
    }
   ],
   "source": [
    "Mas_index= Home.query('MasVnrType != MasVnrType').index\n",
    "Mas_index.shape"
   ]
  },
  {
   "cell_type": "code",
   "execution_count": 49,
   "metadata": {},
   "outputs": [
    {
     "name": "stdout",
     "output_type": "stream",
     "text": [
      "234\n",
      "529\n",
      "650\n",
      "936\n",
      "973\n",
      "977\n",
      "1243\n",
      "1278\n"
     ]
    }
   ],
   "source": [
    "for i in Mas_index:\n",
    "    print (i)\n",
    "    Home.loc[i,'MasVnrType'] = 'None'"
   ]
  },
  {
   "cell_type": "code",
   "execution_count": 50,
   "metadata": {},
   "outputs": [
    {
     "data": {
      "text/plain": [
       "Int64Index([], dtype='int64')"
      ]
     },
     "execution_count": 50,
     "metadata": {},
     "output_type": "execute_result"
    }
   ],
   "source": [
    "Home.query('MasVnrType != MasVnrType').index"
   ]
  },
  {
   "cell_type": "code",
   "execution_count": 51,
   "metadata": {},
   "outputs": [
    {
     "name": "stdout",
     "output_type": "stream",
     "text": [
      "234\n",
      "529\n",
      "650\n",
      "936\n",
      "973\n",
      "977\n",
      "1243\n",
      "1278\n"
     ]
    }
   ],
   "source": [
    "for i in Mas_index:\n",
    "    print (i)\n",
    "    Home.loc[i,'MasVnrArea'] = 0"
   ]
  },
  {
   "cell_type": "code",
   "execution_count": 52,
   "metadata": {},
   "outputs": [
    {
     "data": {
      "text/plain": [
       "None       872\n",
       "BrkFace    445\n",
       "Stone      128\n",
       "BrkCmn      15\n",
       "Name: MasVnrType, dtype: int64"
      ]
     },
     "execution_count": 52,
     "metadata": {},
     "output_type": "execute_result"
    }
   ],
   "source": [
    "Home['MasVnrType'].value_counts()"
   ]
  },
  {
   "cell_type": "code",
   "execution_count": 53,
   "metadata": {},
   "outputs": [
    {
     "data": {
      "text/plain": [
       "MasVnrType    None\n",
       "MasVnrArea       0\n",
       "Name: 234, dtype: object"
      ]
     },
     "execution_count": 53,
     "metadata": {},
     "output_type": "execute_result"
    }
   ],
   "source": [
    "Home.iloc[234][['MasVnrType','MasVnrArea']]"
   ]
  },
  {
   "cell_type": "code",
   "execution_count": 54,
   "metadata": {},
   "outputs": [
    {
     "name": "stdout",
     "output_type": "stream",
     "text": [
      "Total number of records: 1460\n",
      "Total No of columns with null values: 3\n",
      "Electrical      1\n",
      "BsmtFinType2    1\n",
      "BsmtExposure    1\n",
      "dtype: int64\n"
     ]
    }
   ],
   "source": [
    "find_null_values() ### Mas stuff is cleared"
   ]
  },
  {
   "cell_type": "code",
   "execution_count": 55,
   "metadata": {},
   "outputs": [
    {
     "data": {
      "text/html": [
       "<div>\n",
       "<style scoped>\n",
       "    .dataframe tbody tr th:only-of-type {\n",
       "        vertical-align: middle;\n",
       "    }\n",
       "\n",
       "    .dataframe tbody tr th {\n",
       "        vertical-align: top;\n",
       "    }\n",
       "\n",
       "    .dataframe thead th {\n",
       "        text-align: right;\n",
       "    }\n",
       "</style>\n",
       "<table border=\"1\" class=\"dataframe\">\n",
       "  <thead>\n",
       "    <tr style=\"text-align: right;\">\n",
       "      <th></th>\n",
       "      <th>MasVnrType</th>\n",
       "      <th>MasVnrArea</th>\n",
       "    </tr>\n",
       "  </thead>\n",
       "  <tbody>\n",
       "  </tbody>\n",
       "</table>\n",
       "</div>"
      ],
      "text/plain": [
       "Empty DataFrame\n",
       "Columns: [MasVnrType, MasVnrArea]\n",
       "Index: []"
      ]
     },
     "execution_count": 55,
     "metadata": {},
     "output_type": "execute_result"
    }
   ],
   "source": [
    "Home.query('MasVnrType != MasVnrType')[['MasVnrType','MasVnrArea']]"
   ]
  },
  {
   "cell_type": "code",
   "execution_count": 56,
   "metadata": {},
   "outputs": [
    {
     "data": {
      "text/html": [
       "<div>\n",
       "<style scoped>\n",
       "    .dataframe tbody tr th:only-of-type {\n",
       "        vertical-align: middle;\n",
       "    }\n",
       "\n",
       "    .dataframe tbody tr th {\n",
       "        vertical-align: top;\n",
       "    }\n",
       "\n",
       "    .dataframe thead th {\n",
       "        text-align: right;\n",
       "    }\n",
       "</style>\n",
       "<table border=\"1\" class=\"dataframe\">\n",
       "  <thead>\n",
       "    <tr style=\"text-align: right;\">\n",
       "      <th></th>\n",
       "      <th>Id</th>\n",
       "      <th>MSSubClass</th>\n",
       "      <th>MSZoning</th>\n",
       "      <th>LotFrontage</th>\n",
       "      <th>LotArea</th>\n",
       "      <th>Street</th>\n",
       "      <th>Alley</th>\n",
       "      <th>LotShape</th>\n",
       "      <th>LandContour</th>\n",
       "      <th>Utilities</th>\n",
       "      <th>...</th>\n",
       "      <th>PoolArea</th>\n",
       "      <th>PoolQC</th>\n",
       "      <th>Fence</th>\n",
       "      <th>MiscFeature</th>\n",
       "      <th>MiscVal</th>\n",
       "      <th>MoSold</th>\n",
       "      <th>YrSold</th>\n",
       "      <th>SaleType</th>\n",
       "      <th>SaleCondition</th>\n",
       "      <th>SalePrice</th>\n",
       "    </tr>\n",
       "  </thead>\n",
       "  <tbody>\n",
       "    <tr>\n",
       "      <th>1379</th>\n",
       "      <td>1380</td>\n",
       "      <td>80</td>\n",
       "      <td>RL</td>\n",
       "      <td>73.0</td>\n",
       "      <td>9735</td>\n",
       "      <td>Pave</td>\n",
       "      <td>None</td>\n",
       "      <td>Reg</td>\n",
       "      <td>Lvl</td>\n",
       "      <td>AllPub</td>\n",
       "      <td>...</td>\n",
       "      <td>0</td>\n",
       "      <td>None</td>\n",
       "      <td>None</td>\n",
       "      <td>None</td>\n",
       "      <td>0</td>\n",
       "      <td>5</td>\n",
       "      <td>2008</td>\n",
       "      <td>WD</td>\n",
       "      <td>Normal</td>\n",
       "      <td>167500</td>\n",
       "    </tr>\n",
       "  </tbody>\n",
       "</table>\n",
       "<p>1 rows × 81 columns</p>\n",
       "</div>"
      ],
      "text/plain": [
       "        Id  MSSubClass MSZoning  LotFrontage  LotArea Street Alley LotShape  \\\n",
       "1379  1380          80       RL         73.0     9735   Pave  None      Reg   \n",
       "\n",
       "     LandContour Utilities    ...     PoolArea PoolQC Fence MiscFeature  \\\n",
       "1379         Lvl    AllPub    ...            0   None  None        None   \n",
       "\n",
       "     MiscVal MoSold YrSold  SaleType  SaleCondition  SalePrice  \n",
       "1379       0      5   2008        WD         Normal     167500  \n",
       "\n",
       "[1 rows x 81 columns]"
      ]
     },
     "execution_count": 56,
     "metadata": {},
     "output_type": "execute_result"
    }
   ],
   "source": [
    "Home.query('Electrical != Electrical')"
   ]
  },
  {
   "cell_type": "code",
   "execution_count": 57,
   "metadata": {},
   "outputs": [
    {
     "data": {
      "text/plain": [
       "Id             1380\n",
       "MSSubClass       80\n",
       "MSZoning         RL\n",
       "LotFrontage      73\n",
       "LotArea        9735\n",
       "Name: 1379, dtype: object"
      ]
     },
     "execution_count": 57,
     "metadata": {},
     "output_type": "execute_result"
    }
   ],
   "source": [
    "Home.iloc[1379].head(5)"
   ]
  },
  {
   "cell_type": "code",
   "execution_count": 58,
   "metadata": {},
   "outputs": [
    {
     "name": "stdout",
     "output_type": "stream",
     "text": [
      "Total number of records: 1460\n",
      "Total No of columns with null values: 3\n",
      "Electrical      1\n",
      "BsmtFinType2    1\n",
      "BsmtExposure    1\n",
      "dtype: int64\n"
     ]
    }
   ],
   "source": [
    "find_null_values() ### Mas stuff is cleared"
   ]
  },
  {
   "cell_type": "code",
   "execution_count": 59,
   "metadata": {},
   "outputs": [
    {
     "data": {
      "text/plain": [
       "Electrical      object\n",
       "BsmtFinType2    object\n",
       "BsmtExposure    object\n",
       "dtype: object"
      ]
     },
     "execution_count": 59,
     "metadata": {},
     "output_type": "execute_result"
    }
   ],
   "source": [
    "Home.dtypes[['Electrical','BsmtFinType2','BsmtExposure']]"
   ]
  },
  {
   "cell_type": "code",
   "execution_count": 60,
   "metadata": {},
   "outputs": [],
   "source": [
    "replace_with(Home,'Electrical','None')\n",
    "replace_with(Home,'BsmtFinType2','None')\n",
    "replace_with(Home,'BsmtExposure','None')"
   ]
  },
  {
   "cell_type": "code",
   "execution_count": 61,
   "metadata": {},
   "outputs": [
    {
     "name": "stdout",
     "output_type": "stream",
     "text": [
      "Total number of records: 1460\n",
      "Total No of columns with null values: 0\n",
      "Series([], dtype: int64)\n"
     ]
    }
   ],
   "source": [
    "find_null_values() ### Cool....no more missing values"
   ]
  },
  {
   "cell_type": "code",
   "execution_count": 62,
   "metadata": {},
   "outputs": [],
   "source": [
    "Home.to_csv(\"E:/Data_Science/data_files/House_data_cleaned.csv\", index = False)"
   ]
  },
  {
   "cell_type": "code",
   "execution_count": 63,
   "metadata": {},
   "outputs": [
    {
     "data": {
      "text/plain": [
       "(1460, 81)"
      ]
     },
     "execution_count": 63,
     "metadata": {},
     "output_type": "execute_result"
    }
   ],
   "source": [
    "df = pd.read_csv('E:/Data_Science/data_files/House_data_cleaned.csv')\n",
    "df.shape"
   ]
  },
  {
   "cell_type": "code",
   "execution_count": 64,
   "metadata": {},
   "outputs": [],
   "source": [
    "df=df.drop('Id', axis=1)"
   ]
  },
  {
   "cell_type": "code",
   "execution_count": 65,
   "metadata": {},
   "outputs": [
    {
     "data": {
      "text/plain": [
       "object     44\n",
       "int64      34\n",
       "float64     2\n",
       "dtype: int64"
      ]
     },
     "execution_count": 65,
     "metadata": {},
     "output_type": "execute_result"
    }
   ],
   "source": [
    "df.dtypes.value_counts()"
   ]
  },
  {
   "cell_type": "code",
   "execution_count": 66,
   "metadata": {},
   "outputs": [
    {
     "data": {
      "text/html": [
       "<div>\n",
       "<style scoped>\n",
       "    .dataframe tbody tr th:only-of-type {\n",
       "        vertical-align: middle;\n",
       "    }\n",
       "\n",
       "    .dataframe tbody tr th {\n",
       "        vertical-align: top;\n",
       "    }\n",
       "\n",
       "    .dataframe thead th {\n",
       "        text-align: right;\n",
       "    }\n",
       "</style>\n",
       "<table border=\"1\" class=\"dataframe\">\n",
       "  <thead>\n",
       "    <tr style=\"text-align: right;\">\n",
       "      <th></th>\n",
       "      <th>LotFrontage</th>\n",
       "      <th>MasVnrArea</th>\n",
       "    </tr>\n",
       "  </thead>\n",
       "  <tbody>\n",
       "    <tr>\n",
       "      <th>0</th>\n",
       "      <td>65.0</td>\n",
       "      <td>196.0</td>\n",
       "    </tr>\n",
       "    <tr>\n",
       "      <th>1</th>\n",
       "      <td>80.0</td>\n",
       "      <td>0.0</td>\n",
       "    </tr>\n",
       "  </tbody>\n",
       "</table>\n",
       "</div>"
      ],
      "text/plain": [
       "   LotFrontage  MasVnrArea\n",
       "0         65.0       196.0\n",
       "1         80.0         0.0"
      ]
     },
     "execution_count": 66,
     "metadata": {},
     "output_type": "execute_result"
    }
   ],
   "source": [
    "df.select_dtypes(include='float64').head(2) ### i dont see any decimal values so converting them to int64"
   ]
  },
  {
   "cell_type": "code",
   "execution_count": 67,
   "metadata": {},
   "outputs": [],
   "source": [
    "df['LotFrontage']=df.LotArea.astype('int64')\n",
    "df['MasVnrArea']=df.MasVnrArea.astype('int64')"
   ]
  },
  {
   "cell_type": "code",
   "execution_count": 68,
   "metadata": {},
   "outputs": [
    {
     "data": {
      "text/plain": [
       "object    44\n",
       "int64     36\n",
       "dtype: int64"
      ]
     },
     "execution_count": 68,
     "metadata": {},
     "output_type": "execute_result"
    }
   ],
   "source": [
    "df.dtypes.value_counts()"
   ]
  },
  {
   "cell_type": "code",
   "execution_count": 69,
   "metadata": {},
   "outputs": [],
   "source": [
    "#### Working on EDA part to remove some of the features\n",
    "Int_values = df.select_dtypes(include='int64')\n",
    "Cat_Values= df.select_dtypes(include='object')"
   ]
  },
  {
   "cell_type": "code",
   "execution_count": 70,
   "metadata": {},
   "outputs": [],
   "source": [
    "### Checking the co-relations between them\n",
    "target = Int_values['SalePrice']\n",
    "source = Int_values.loc[:, Int_values.columns != 'SalePrice']"
   ]
  },
  {
   "cell_type": "code",
   "execution_count": 71,
   "metadata": {},
   "outputs": [
    {
     "data": {
      "text/plain": [
       "<matplotlib.image.AxesImage at 0x28ab4fe7710>"
      ]
     },
     "execution_count": 71,
     "metadata": {},
     "output_type": "execute_result"
    },
    {
     "data": {
      "image/png": "[encoded data removed]",
      "text/plain": [
       "<matplotlib.figure.Figure at 0x28aaeb96ba8>"
      ]
     },
     "metadata": {},
     "output_type": "display_data"
    }
   ],
   "source": [
    "plt.matshow(Int_values.corr())"
   ]
  },
  {
   "cell_type": "code",
   "execution_count": 72,
   "metadata": {},
   "outputs": [
    {
     "data": {
      "text/plain": [
       "<matplotlib.axes._subplots.AxesSubplot at 0x28ab4d084a8>"
      ]
     },
     "execution_count": 72,
     "metadata": {},
     "output_type": "execute_result"
    },
    {
     "data": {
      "image/png": "[encoded data removed]",
      "text/plain": [
       "<matplotlib.figure.Figure at 0x28ab4fbb588>"
      ]
     },
     "metadata": {},
     "output_type": "display_data"
    }
   ],
   "source": [
    "sns.heatmap(Int_values.corr(), cmap=sns.color_palette(\"RdBu\", 10), annot=True)"
   ]
  },
  {
   "cell_type": "code",
   "execution_count": 73,
   "metadata": {},
   "outputs": [
    {
     "data": {
      "image/png": "[encoded data removed]",
      "text/plain": [
       "<matplotlib.figure.Figure at 0x28ab51220f0>"
      ]
     },
     "metadata": {},
     "output_type": "display_data"
    }
   ],
   "source": [
    "plt.subplot(1, 2, 1)\n",
    "np.log(df.SalePrice).hist(bins = 100)\n",
    "plt.subplot(1, 2, 2)\n",
    "df.SalePrice.plot.box()\n",
    "plt.tight_layout()"
   ]
  },
  {
   "cell_type": "code",
   "execution_count": 74,
   "metadata": {},
   "outputs": [
    {
     "name": "stdout",
     "output_type": "stream",
     "text": [
      "0 percentile value is 34900\n",
      "10 percentile value is 106500\n",
      "20 percentile value is 124000\n",
      "30 percentile value is 135500\n",
      "40 percentile value is 147000\n",
      "50 percentile value is 163000\n",
      "60 percentile value is 179400\n",
      "70 percentile value is 198500\n",
      "80 percentile value is 230000\n",
      "90 percentile value is 278000\n",
      "100 percentile value is  755000\n"
     ]
    }
   ],
   "source": [
    "### Indentify the outlier\n",
    "\n",
    "for i in range(0,100,10):\n",
    "    var =df[\"SalePrice\"].values\n",
    "    var = np.sort(var,axis = None)\n",
    "    print(\"{} percentile value is {}\".format(i,var[int(len(var)*(float(i)/100))]))\n",
    "print (\"100 percentile value is \",var[-1])"
   ]
  },
  {
   "cell_type": "code",
   "execution_count": 75,
   "metadata": {},
   "outputs": [
    {
     "name": "stdout",
     "output_type": "stream",
     "text": [
      "90 percentile value is 278000\n",
      "91 percentile value is 285000\n",
      "92 percentile value is 297000\n",
      "93 percentile value is 311500\n",
      "94 percentile value is 318061\n",
      "95 percentile value is 328000\n",
      "96 percentile value is 345000\n",
      "97 percentile value is 375000\n",
      "98 percentile value is 395000\n",
      "99 percentile value is 446261\n",
      "100 percentile value is  755000\n"
     ]
    }
   ],
   "source": [
    "for i in range(90,100,1):\n",
    "    var =df[\"SalePrice\"].values\n",
    "    var = np.sort(var,axis = None)\n",
    "    print(\"{} percentile value is {}\".format(i,var[int(len(var)*(float(i)/100))]))\n",
    "print (\"100 percentile value is \",var[-1])"
   ]
  },
  {
   "cell_type": "code",
   "execution_count": 76,
   "metadata": {},
   "outputs": [],
   "source": [
    "##frame_with_durations_modified=new_frame[(new_frame.trip_times>1) & (new_frame.trip_times<720)] \n",
    "\n",
    "df_new= df[(df.SalePrice >1) & (df.SalePrice<=446261)] "
   ]
  },
  {
   "cell_type": "code",
   "execution_count": 77,
   "metadata": {},
   "outputs": [
    {
     "data": {
      "image/png": "[encoded data removed]",
      "text/plain": [
       "<matplotlib.figure.Figure at 0x28ab58688d0>"
      ]
     },
     "metadata": {},
     "output_type": "display_data"
    }
   ],
   "source": [
    "df_new.SalePrice.plot.box()\n",
    "plt.show()"
   ]
  },
  {
   "cell_type": "code",
   "execution_count": 78,
   "metadata": {},
   "outputs": [
    {
     "data": {
      "text/plain": [
       "<matplotlib.axes._subplots.AxesSubplot at 0x28ab5a31b38>"
      ]
     },
     "execution_count": 78,
     "metadata": {},
     "output_type": "execute_result"
    },
    {
     "data": {
      "image/png": "[encoded data removed]",
      "text/plain": [
       "<matplotlib.figure.Figure at 0x28ab5802f98>"
      ]
     },
     "metadata": {},
     "output_type": "display_data"
    }
   ],
   "source": [
    "sns.distplot(np.log(df_new.SalePrice), color='blue' , vertical=False)"
   ]
  },
  {
   "cell_type": "code",
   "execution_count": 79,
   "metadata": {},
   "outputs": [],
   "source": [
    "from  scipy.stats.stats import ttest_ind\n",
    "from  scipy.stats.stats import ttest_1samp"
   ]
  },
  {
   "cell_type": "code",
   "execution_count": 80,
   "metadata": {},
   "outputs": [
    {
     "data": {
      "text/plain": [
       "Ttest_indResult(statistic=89.79944423928035, pvalue=0.0)"
      ]
     },
     "execution_count": 80,
     "metadata": {},
     "output_type": "execute_result"
    }
   ],
   "source": [
    "ttest_ind(df_new.SalePrice,df_new.LotFrontage)"
   ]
  },
  {
   "cell_type": "code",
   "execution_count": 81,
   "metadata": {},
   "outputs": [
    {
     "data": {
      "text/plain": [
       "<matplotlib.axes._subplots.AxesSubplot at 0x28ab5aaee48>"
      ]
     },
     "execution_count": 81,
     "metadata": {},
     "output_type": "execute_result"
    },
    {
     "data": {
      "image/png": "[encoded data removed]",
      "text/plain": [
       "<matplotlib.figure.Figure at 0x28ab58e87b8>"
      ]
     },
     "metadata": {},
     "output_type": "display_data"
    }
   ],
   "source": [
    "sns.barplot(x=df_new.YearBuilt, y=df_new.SalePrice, data=df_new, palette='spring')"
   ]
  },
  {
   "cell_type": "code",
   "execution_count": 82,
   "metadata": {},
   "outputs": [
    {
     "data": {
      "text/html": [
       "<div>\n",
       "<style scoped>\n",
       "    .dataframe tbody tr th:only-of-type {\n",
       "        vertical-align: middle;\n",
       "    }\n",
       "\n",
       "    .dataframe tbody tr th {\n",
       "        vertical-align: top;\n",
       "    }\n",
       "\n",
       "    .dataframe thead th {\n",
       "        text-align: right;\n",
       "    }\n",
       "</style>\n",
       "<table border=\"1\" class=\"dataframe\">\n",
       "  <thead>\n",
       "    <tr style=\"text-align: right;\">\n",
       "      <th></th>\n",
       "      <th>MSSubClass</th>\n",
       "      <th>LotFrontage</th>\n",
       "      <th>LotArea</th>\n",
       "      <th>OverallQual</th>\n",
       "      <th>OverallCond</th>\n",
       "      <th>YearBuilt</th>\n",
       "      <th>YearRemodAdd</th>\n",
       "      <th>MasVnrArea</th>\n",
       "      <th>BsmtFinSF1</th>\n",
       "      <th>BsmtFinSF2</th>\n",
       "      <th>...</th>\n",
       "      <th>WoodDeckSF</th>\n",
       "      <th>OpenPorchSF</th>\n",
       "      <th>EnclosedPorch</th>\n",
       "      <th>3SsnPorch</th>\n",
       "      <th>ScreenPorch</th>\n",
       "      <th>PoolArea</th>\n",
       "      <th>MiscVal</th>\n",
       "      <th>MoSold</th>\n",
       "      <th>YrSold</th>\n",
       "      <th>SalePrice</th>\n",
       "    </tr>\n",
       "  </thead>\n",
       "  <tbody>\n",
       "    <tr>\n",
       "      <th>MSSubClass</th>\n",
       "      <td>1.000000</td>\n",
       "      <td>-0.141151</td>\n",
       "      <td>-0.141151</td>\n",
       "      <td>0.039744</td>\n",
       "      <td>-0.061964</td>\n",
       "      <td>0.031995</td>\n",
       "      <td>0.043593</td>\n",
       "      <td>0.030607</td>\n",
       "      <td>-0.063468</td>\n",
       "      <td>-0.064634</td>\n",
       "      <td>...</td>\n",
       "      <td>-0.012810</td>\n",
       "      <td>-0.004439</td>\n",
       "      <td>-0.012894</td>\n",
       "      <td>-0.044158</td>\n",
       "      <td>-0.028155</td>\n",
       "      <td>0.007998</td>\n",
       "      <td>-7.897532e-03</td>\n",
       "      <td>-0.014725</td>\n",
       "      <td>-0.020312</td>\n",
       "      <td>-0.085239</td>\n",
       "    </tr>\n",
       "    <tr>\n",
       "      <th>LotFrontage</th>\n",
       "      <td>-0.141151</td>\n",
       "      <td>1.000000</td>\n",
       "      <td>1.000000</td>\n",
       "      <td>0.089340</td>\n",
       "      <td>-0.004818</td>\n",
       "      <td>0.008506</td>\n",
       "      <td>0.006835</td>\n",
       "      <td>0.079680</td>\n",
       "      <td>0.205854</td>\n",
       "      <td>0.114193</td>\n",
       "      <td>...</td>\n",
       "      <td>0.160039</td>\n",
       "      <td>0.080700</td>\n",
       "      <td>-0.015264</td>\n",
       "      <td>0.021695</td>\n",
       "      <td>0.027306</td>\n",
       "      <td>0.079446</td>\n",
       "      <td>3.926034e-02</td>\n",
       "      <td>0.003257</td>\n",
       "      <td>-0.015853</td>\n",
       "      <td>0.253024</td>\n",
       "    </tr>\n",
       "    <tr>\n",
       "      <th>LotArea</th>\n",
       "      <td>-0.141151</td>\n",
       "      <td>1.000000</td>\n",
       "      <td>1.000000</td>\n",
       "      <td>0.089340</td>\n",
       "      <td>-0.004818</td>\n",
       "      <td>0.008506</td>\n",
       "      <td>0.006835</td>\n",
       "      <td>0.079680</td>\n",
       "      <td>0.205854</td>\n",
       "      <td>0.114193</td>\n",
       "      <td>...</td>\n",
       "      <td>0.160039</td>\n",
       "      <td>0.080700</td>\n",
       "      <td>-0.015264</td>\n",
       "      <td>0.021695</td>\n",
       "      <td>0.027306</td>\n",
       "      <td>0.079446</td>\n",
       "      <td>3.926034e-02</td>\n",
       "      <td>0.003257</td>\n",
       "      <td>-0.015853</td>\n",
       "      <td>0.253024</td>\n",
       "    </tr>\n",
       "    <tr>\n",
       "      <th>OverallQual</th>\n",
       "      <td>0.039744</td>\n",
       "      <td>0.089340</td>\n",
       "      <td>0.089340</td>\n",
       "      <td>1.000000</td>\n",
       "      <td>-0.091582</td>\n",
       "      <td>0.576217</td>\n",
       "      <td>0.548880</td>\n",
       "      <td>0.383921</td>\n",
       "      <td>0.212155</td>\n",
       "      <td>-0.060839</td>\n",
       "      <td>...</td>\n",
       "      <td>0.229469</td>\n",
       "      <td>0.292409</td>\n",
       "      <td>-0.108790</td>\n",
       "      <td>0.034195</td>\n",
       "      <td>0.045042</td>\n",
       "      <td>0.044094</td>\n",
       "      <td>-3.024910e-02</td>\n",
       "      <td>0.082848</td>\n",
       "      <td>-0.026061</td>\n",
       "      <td>0.797417</td>\n",
       "    </tr>\n",
       "    <tr>\n",
       "      <th>OverallCond</th>\n",
       "      <td>-0.061964</td>\n",
       "      <td>-0.004818</td>\n",
       "      <td>-0.004818</td>\n",
       "      <td>-0.091582</td>\n",
       "      <td>1.000000</td>\n",
       "      <td>-0.370417</td>\n",
       "      <td>0.077660</td>\n",
       "      <td>-0.123320</td>\n",
       "      <td>-0.038373</td>\n",
       "      <td>0.041197</td>\n",
       "      <td>...</td>\n",
       "      <td>0.001151</td>\n",
       "      <td>-0.035555</td>\n",
       "      <td>0.070026</td>\n",
       "      <td>0.025396</td>\n",
       "      <td>0.043869</td>\n",
       "      <td>0.003012</td>\n",
       "      <td>6.891651e-02</td>\n",
       "      <td>-0.003948</td>\n",
       "      <td>0.048363</td>\n",
       "      <td>-0.077694</td>\n",
       "    </tr>\n",
       "    <tr>\n",
       "      <th>YearBuilt</th>\n",
       "      <td>0.031995</td>\n",
       "      <td>0.008506</td>\n",
       "      <td>0.008506</td>\n",
       "      <td>0.576217</td>\n",
       "      <td>-0.370417</td>\n",
       "      <td>1.000000</td>\n",
       "      <td>0.591160</td>\n",
       "      <td>0.305638</td>\n",
       "      <td>0.238925</td>\n",
       "      <td>-0.050206</td>\n",
       "      <td>...</td>\n",
       "      <td>0.219925</td>\n",
       "      <td>0.188445</td>\n",
       "      <td>-0.387675</td>\n",
       "      <td>0.032522</td>\n",
       "      <td>-0.044831</td>\n",
       "      <td>-0.002525</td>\n",
       "      <td>-3.395701e-02</td>\n",
       "      <td>0.016181</td>\n",
       "      <td>-0.018711</td>\n",
       "      <td>0.556850</td>\n",
       "    </tr>\n",
       "    <tr>\n",
       "      <th>YearRemodAdd</th>\n",
       "      <td>0.043593</td>\n",
       "      <td>0.006835</td>\n",
       "      <td>0.006835</td>\n",
       "      <td>0.548880</td>\n",
       "      <td>0.077660</td>\n",
       "      <td>0.591160</td>\n",
       "      <td>1.000000</td>\n",
       "      <td>0.165875</td>\n",
       "      <td>0.117905</td>\n",
       "      <td>-0.068354</td>\n",
       "      <td>...</td>\n",
       "      <td>0.202990</td>\n",
       "      <td>0.220249</td>\n",
       "      <td>-0.191724</td>\n",
       "      <td>0.046513</td>\n",
       "      <td>-0.047364</td>\n",
       "      <td>0.001338</td>\n",
       "      <td>-9.558943e-03</td>\n",
       "      <td>0.025103</td>\n",
       "      <td>0.033797</td>\n",
       "      <td>0.535147</td>\n",
       "    </tr>\n",
       "    <tr>\n",
       "      <th>MasVnrArea</th>\n",
       "      <td>0.030607</td>\n",
       "      <td>0.079680</td>\n",
       "      <td>0.079680</td>\n",
       "      <td>0.383921</td>\n",
       "      <td>-0.123320</td>\n",
       "      <td>0.305638</td>\n",
       "      <td>0.165875</td>\n",
       "      <td>1.000000</td>\n",
       "      <td>0.237787</td>\n",
       "      <td>-0.070016</td>\n",
       "      <td>...</td>\n",
       "      <td>0.139673</td>\n",
       "      <td>0.117917</td>\n",
       "      <td>-0.107564</td>\n",
       "      <td>0.023096</td>\n",
       "      <td>0.063829</td>\n",
       "      <td>0.021203</td>\n",
       "      <td>-2.908111e-02</td>\n",
       "      <td>0.008570</td>\n",
       "      <td>-0.013872</td>\n",
       "      <td>0.429747</td>\n",
       "    </tr>\n",
       "    <tr>\n",
       "      <th>BsmtFinSF1</th>\n",
       "      <td>-0.063468</td>\n",
       "      <td>0.205854</td>\n",
       "      <td>0.205854</td>\n",
       "      <td>0.212155</td>\n",
       "      <td>-0.038373</td>\n",
       "      <td>0.238925</td>\n",
       "      <td>0.117905</td>\n",
       "      <td>0.237787</td>\n",
       "      <td>1.000000</td>\n",
       "      <td>-0.053903</td>\n",
       "      <td>...</td>\n",
       "      <td>0.197029</td>\n",
       "      <td>0.105718</td>\n",
       "      <td>-0.099368</td>\n",
       "      <td>0.029017</td>\n",
       "      <td>0.065150</td>\n",
       "      <td>0.117881</td>\n",
       "      <td>5.066697e-03</td>\n",
       "      <td>-0.010258</td>\n",
       "      <td>0.009998</td>\n",
       "      <td>0.358345</td>\n",
       "    </tr>\n",
       "    <tr>\n",
       "      <th>BsmtFinSF2</th>\n",
       "      <td>-0.064634</td>\n",
       "      <td>0.114193</td>\n",
       "      <td>0.114193</td>\n",
       "      <td>-0.060839</td>\n",
       "      <td>0.041197</td>\n",
       "      <td>-0.050206</td>\n",
       "      <td>-0.068354</td>\n",
       "      <td>-0.070016</td>\n",
       "      <td>-0.053903</td>\n",
       "      <td>1.000000</td>\n",
       "      <td>...</td>\n",
       "      <td>0.072967</td>\n",
       "      <td>0.005429</td>\n",
       "      <td>0.036523</td>\n",
       "      <td>-0.030159</td>\n",
       "      <td>0.088033</td>\n",
       "      <td>0.047775</td>\n",
       "      <td>4.915139e-03</td>\n",
       "      <td>-0.014422</td>\n",
       "      <td>0.030043</td>\n",
       "      <td>-0.010297</td>\n",
       "    </tr>\n",
       "    <tr>\n",
       "      <th>BsmtUnfSF</th>\n",
       "      <td>-0.142641</td>\n",
       "      <td>-0.004085</td>\n",
       "      <td>-0.004085</td>\n",
       "      <td>0.304397</td>\n",
       "      <td>-0.139105</td>\n",
       "      <td>0.147353</td>\n",
       "      <td>0.177376</td>\n",
       "      <td>0.105752</td>\n",
       "      <td>-0.506581</td>\n",
       "      <td>-0.211581</td>\n",
       "      <td>...</td>\n",
       "      <td>-0.008597</td>\n",
       "      <td>0.122045</td>\n",
       "      <td>-0.000114</td>\n",
       "      <td>0.021790</td>\n",
       "      <td>-0.023226</td>\n",
       "      <td>-0.031394</td>\n",
       "      <td>-2.350433e-02</td>\n",
       "      <td>0.040401</td>\n",
       "      <td>-0.038415</td>\n",
       "      <td>0.213918</td>\n",
       "    </tr>\n",
       "    <tr>\n",
       "      <th>TotalBsmtSF</th>\n",
       "      <td>-0.237841</td>\n",
       "      <td>0.254565</td>\n",
       "      <td>0.254565</td>\n",
       "      <td>0.512568</td>\n",
       "      <td>-0.167835</td>\n",
       "      <td>0.382878</td>\n",
       "      <td>0.280227</td>\n",
       "      <td>0.331336</td>\n",
       "      <td>0.504755</td>\n",
       "      <td>0.104492</td>\n",
       "      <td>...</td>\n",
       "      <td>0.225061</td>\n",
       "      <td>0.238433</td>\n",
       "      <td>-0.090311</td>\n",
       "      <td>0.041395</td>\n",
       "      <td>0.077636</td>\n",
       "      <td>0.109178</td>\n",
       "      <td>-1.704132e-02</td>\n",
       "      <td>0.025407</td>\n",
       "      <td>-0.017716</td>\n",
       "      <td>0.591577</td>\n",
       "    </tr>\n",
       "    <tr>\n",
       "      <th>1stFlrSF</th>\n",
       "      <td>-0.251821</td>\n",
       "      <td>0.294250</td>\n",
       "      <td>0.294250</td>\n",
       "      <td>0.446117</td>\n",
       "      <td>-0.141768</td>\n",
       "      <td>0.270510</td>\n",
       "      <td>0.227586</td>\n",
       "      <td>0.308686</td>\n",
       "      <td>0.424797</td>\n",
       "      <td>0.099734</td>\n",
       "      <td>...</td>\n",
       "      <td>0.227820</td>\n",
       "      <td>0.199119</td>\n",
       "      <td>-0.058953</td>\n",
       "      <td>0.060635</td>\n",
       "      <td>0.081019</td>\n",
       "      <td>0.113151</td>\n",
       "      <td>-1.970519e-02</td>\n",
       "      <td>0.043817</td>\n",
       "      <td>-0.014858</td>\n",
       "      <td>0.581538</td>\n",
       "    </tr>\n",
       "    <tr>\n",
       "      <th>2ndFlrSF</th>\n",
       "      <td>0.311297</td>\n",
       "      <td>0.031089</td>\n",
       "      <td>0.031089</td>\n",
       "      <td>0.280370</td>\n",
       "      <td>0.027180</td>\n",
       "      <td>0.006203</td>\n",
       "      <td>0.136102</td>\n",
       "      <td>0.149021</td>\n",
       "      <td>-0.157387</td>\n",
       "      <td>-0.096481</td>\n",
       "      <td>...</td>\n",
       "      <td>0.076241</td>\n",
       "      <td>0.205127</td>\n",
       "      <td>0.067953</td>\n",
       "      <td>-0.023475</td>\n",
       "      <td>0.021629</td>\n",
       "      <td>0.049297</td>\n",
       "      <td>1.766748e-02</td>\n",
       "      <td>0.040900</td>\n",
       "      <td>-0.024443</td>\n",
       "      <td>0.291574</td>\n",
       "    </tr>\n",
       "    <tr>\n",
       "      <th>LowQualFinSF</th>\n",
       "      <td>0.044967</td>\n",
       "      <td>-0.004512</td>\n",
       "      <td>-0.004512</td>\n",
       "      <td>-0.054710</td>\n",
       "      <td>0.000493</td>\n",
       "      <td>-0.171161</td>\n",
       "      <td>-0.068145</td>\n",
       "      <td>-0.068251</td>\n",
       "      <td>-0.059209</td>\n",
       "      <td>0.017999</td>\n",
       "      <td>...</td>\n",
       "      <td>-0.019656</td>\n",
       "      <td>-0.006901</td>\n",
       "      <td>0.066813</td>\n",
       "      <td>-0.003659</td>\n",
       "      <td>-0.031593</td>\n",
       "      <td>0.071707</td>\n",
       "      <td>-3.340756e-03</td>\n",
       "      <td>-0.022814</td>\n",
       "      <td>-0.018875</td>\n",
       "      <td>-0.060270</td>\n",
       "    </tr>\n",
       "    <tr>\n",
       "      <th>GrLivArea</th>\n",
       "      <td>0.081204</td>\n",
       "      <td>0.246959</td>\n",
       "      <td>0.246959</td>\n",
       "      <td>0.569280</td>\n",
       "      <td>-0.083115</td>\n",
       "      <td>0.192422</td>\n",
       "      <td>0.280766</td>\n",
       "      <td>0.352654</td>\n",
       "      <td>0.178797</td>\n",
       "      <td>-0.005931</td>\n",
       "      <td>...</td>\n",
       "      <td>0.234287</td>\n",
       "      <td>0.324066</td>\n",
       "      <td>0.020023</td>\n",
       "      <td>0.025103</td>\n",
       "      <td>0.076350</td>\n",
       "      <td>0.133687</td>\n",
       "      <td>-7.997303e-08</td>\n",
       "      <td>0.065715</td>\n",
       "      <td>-0.033787</td>\n",
       "      <td>0.679962</td>\n",
       "    </tr>\n",
       "    <tr>\n",
       "      <th>BsmtFullBath</th>\n",
       "      <td>0.007038</td>\n",
       "      <td>0.155245</td>\n",
       "      <td>0.155245</td>\n",
       "      <td>0.104344</td>\n",
       "      <td>-0.050804</td>\n",
       "      <td>0.183474</td>\n",
       "      <td>0.116500</td>\n",
       "      <td>0.077900</td>\n",
       "      <td>0.650673</td>\n",
       "      <td>0.158654</td>\n",
       "      <td>...</td>\n",
       "      <td>0.172919</td>\n",
       "      <td>0.065107</td>\n",
       "      <td>-0.048724</td>\n",
       "      <td>0.000368</td>\n",
       "      <td>0.025944</td>\n",
       "      <td>0.061800</td>\n",
       "      <td>-2.280486e-02</td>\n",
       "      <td>-0.026213</td>\n",
       "      <td>0.065376</td>\n",
       "      <td>0.239577</td>\n",
       "    </tr>\n",
       "    <tr>\n",
       "      <th>BsmtHalfBath</th>\n",
       "      <td>-0.003116</td>\n",
       "      <td>0.047778</td>\n",
       "      <td>0.047778</td>\n",
       "      <td>-0.044173</td>\n",
       "      <td>0.117447</td>\n",
       "      <td>-0.038968</td>\n",
       "      <td>-0.011773</td>\n",
       "      <td>0.016976</td>\n",
       "      <td>0.066863</td>\n",
       "      <td>0.072324</td>\n",
       "      <td>...</td>\n",
       "      <td>0.036055</td>\n",
       "      <td>-0.023298</td>\n",
       "      <td>-0.008405</td>\n",
       "      <td>0.035380</td>\n",
       "      <td>0.036400</td>\n",
       "      <td>0.024080</td>\n",
       "      <td>-7.358690e-03</td>\n",
       "      <td>0.038020</td>\n",
       "      <td>-0.045221</td>\n",
       "      <td>-0.030566</td>\n",
       "    </tr>\n",
       "    <tr>\n",
       "      <th>FullBath</th>\n",
       "      <td>0.135449</td>\n",
       "      <td>0.109915</td>\n",
       "      <td>0.109915</td>\n",
       "      <td>0.537457</td>\n",
       "      <td>-0.193584</td>\n",
       "      <td>0.465269</td>\n",
       "      <td>0.434529</td>\n",
       "      <td>0.245184</td>\n",
       "      <td>0.038288</td>\n",
       "      <td>-0.075167</td>\n",
       "      <td>...</td>\n",
       "      <td>0.175015</td>\n",
       "      <td>0.253994</td>\n",
       "      <td>-0.111265</td>\n",
       "      <td>0.037953</td>\n",
       "      <td>-0.023435</td>\n",
       "      <td>0.028291</td>\n",
       "      <td>-1.308547e-02</td>\n",
       "      <td>0.064069</td>\n",
       "      <td>-0.019721</td>\n",
       "      <td>0.553937</td>\n",
       "    </tr>\n",
       "    <tr>\n",
       "      <th>HalfBath</th>\n",
       "      <td>0.179252</td>\n",
       "      <td>0.004907</td>\n",
       "      <td>0.004907</td>\n",
       "      <td>0.260687</td>\n",
       "      <td>-0.060520</td>\n",
       "      <td>0.239774</td>\n",
       "      <td>0.177657</td>\n",
       "      <td>0.187890</td>\n",
       "      <td>-0.006676</td>\n",
       "      <td>-0.028075</td>\n",
       "      <td>...</td>\n",
       "      <td>0.098218</td>\n",
       "      <td>0.190874</td>\n",
       "      <td>-0.092709</td>\n",
       "      <td>-0.003936</td>\n",
       "      <td>0.066427</td>\n",
       "      <td>0.012197</td>\n",
       "      <td>2.105172e-03</td>\n",
       "      <td>-0.005391</td>\n",
       "      <td>-0.008314</td>\n",
       "      <td>0.275374</td>\n",
       "    </tr>\n",
       "    <tr>\n",
       "      <th>BedroomAbvGr</th>\n",
       "      <td>-0.028530</td>\n",
       "      <td>0.113314</td>\n",
       "      <td>0.113314</td>\n",
       "      <td>0.098052</td>\n",
       "      <td>0.010525</td>\n",
       "      <td>-0.070841</td>\n",
       "      <td>-0.042310</td>\n",
       "      <td>0.099275</td>\n",
       "      <td>-0.104843</td>\n",
       "      <td>-0.012509</td>\n",
       "      <td>...</td>\n",
       "      <td>0.038912</td>\n",
       "      <td>0.092270</td>\n",
       "      <td>0.043151</td>\n",
       "      <td>-0.024309</td>\n",
       "      <td>0.034770</td>\n",
       "      <td>0.062433</td>\n",
       "      <td>8.125620e-03</td>\n",
       "      <td>0.048930</td>\n",
       "      <td>-0.032990</td>\n",
       "      <td>0.169073</td>\n",
       "    </tr>\n",
       "    <tr>\n",
       "      <th>KitchenAbvGr</th>\n",
       "      <td>0.281682</td>\n",
       "      <td>-0.016044</td>\n",
       "      <td>-0.016044</td>\n",
       "      <td>-0.184560</td>\n",
       "      <td>-0.087808</td>\n",
       "      <td>-0.174522</td>\n",
       "      <td>-0.148423</td>\n",
       "      <td>-0.035520</td>\n",
       "      <td>-0.079817</td>\n",
       "      <td>-0.041009</td>\n",
       "      <td>...</td>\n",
       "      <td>-0.089531</td>\n",
       "      <td>-0.068679</td>\n",
       "      <td>0.036608</td>\n",
       "      <td>-0.024846</td>\n",
       "      <td>-0.051039</td>\n",
       "      <td>-0.013557</td>\n",
       "      <td>6.217698e-02</td>\n",
       "      <td>0.025924</td>\n",
       "      <td>0.031956</td>\n",
       "      <td>-0.144030</td>\n",
       "    </tr>\n",
       "    <tr>\n",
       "      <th>TotRmsAbvGrd</th>\n",
       "      <td>0.044311</td>\n",
       "      <td>0.172784</td>\n",
       "      <td>0.172784</td>\n",
       "      <td>0.398787</td>\n",
       "      <td>-0.057822</td>\n",
       "      <td>0.083374</td>\n",
       "      <td>0.177855</td>\n",
       "      <td>0.247095</td>\n",
       "      <td>0.016209</td>\n",
       "      <td>-0.034966</td>\n",
       "      <td>...</td>\n",
       "      <td>0.155783</td>\n",
       "      <td>0.219829</td>\n",
       "      <td>0.012436</td>\n",
       "      <td>-0.004245</td>\n",
       "      <td>0.028538</td>\n",
       "      <td>0.071519</td>\n",
       "      <td>2.749706e-02</td>\n",
       "      <td>0.048996</td>\n",
       "      <td>-0.039918</td>\n",
       "      <td>0.502258</td>\n",
       "    </tr>\n",
       "    <tr>\n",
       "      <th>Fireplaces</th>\n",
       "      <td>-0.042644</td>\n",
       "      <td>0.267586</td>\n",
       "      <td>0.267586</td>\n",
       "      <td>0.378941</td>\n",
       "      <td>-0.023990</td>\n",
       "      <td>0.141898</td>\n",
       "      <td>0.102813</td>\n",
       "      <td>0.230771</td>\n",
       "      <td>0.246656</td>\n",
       "      <td>0.046538</td>\n",
       "      <td>...</td>\n",
       "      <td>0.196920</td>\n",
       "      <td>0.160027</td>\n",
       "      <td>-0.020292</td>\n",
       "      <td>0.012966</td>\n",
       "      <td>0.176727</td>\n",
       "      <td>0.081912</td>\n",
       "      <td>2.608850e-03</td>\n",
       "      <td>0.054728</td>\n",
       "      <td>-0.024966</td>\n",
       "      <td>0.463399</td>\n",
       "    </tr>\n",
       "    <tr>\n",
       "      <th>GarageCars</th>\n",
       "      <td>-0.036828</td>\n",
       "      <td>0.143329</td>\n",
       "      <td>0.143329</td>\n",
       "      <td>0.586967</td>\n",
       "      <td>-0.185899</td>\n",
       "      <td>0.536072</td>\n",
       "      <td>0.413412</td>\n",
       "      <td>0.347208</td>\n",
       "      <td>0.206449</td>\n",
       "      <td>-0.038106</td>\n",
       "      <td>...</td>\n",
       "      <td>0.218819</td>\n",
       "      <td>0.200770</td>\n",
       "      <td>-0.147745</td>\n",
       "      <td>0.038133</td>\n",
       "      <td>0.036190</td>\n",
       "      <td>0.006800</td>\n",
       "      <td>-4.224124e-02</td>\n",
       "      <td>0.047485</td>\n",
       "      <td>-0.040398</td>\n",
       "      <td>0.652880</td>\n",
       "    </tr>\n",
       "    <tr>\n",
       "      <th>GarageArea</th>\n",
       "      <td>-0.096069</td>\n",
       "      <td>0.169288</td>\n",
       "      <td>0.169288</td>\n",
       "      <td>0.546591</td>\n",
       "      <td>-0.151214</td>\n",
       "      <td>0.476338</td>\n",
       "      <td>0.363441</td>\n",
       "      <td>0.353521</td>\n",
       "      <td>0.281570</td>\n",
       "      <td>-0.015834</td>\n",
       "      <td>...</td>\n",
       "      <td>0.218676</td>\n",
       "      <td>0.228786</td>\n",
       "      <td>-0.117693</td>\n",
       "      <td>0.037667</td>\n",
       "      <td>0.036290</td>\n",
       "      <td>0.051201</td>\n",
       "      <td>-2.634802e-02</td>\n",
       "      <td>0.035351</td>\n",
       "      <td>-0.030169</td>\n",
       "      <td>0.631034</td>\n",
       "    </tr>\n",
       "    <tr>\n",
       "      <th>WoodDeckSF</th>\n",
       "      <td>-0.012810</td>\n",
       "      <td>0.160039</td>\n",
       "      <td>0.160039</td>\n",
       "      <td>0.229469</td>\n",
       "      <td>0.001151</td>\n",
       "      <td>0.219925</td>\n",
       "      <td>0.202990</td>\n",
       "      <td>0.139673</td>\n",
       "      <td>0.197029</td>\n",
       "      <td>0.072967</td>\n",
       "      <td>...</td>\n",
       "      <td>1.000000</td>\n",
       "      <td>0.052166</td>\n",
       "      <td>-0.124696</td>\n",
       "      <td>-0.032235</td>\n",
       "      <td>-0.077477</td>\n",
       "      <td>0.073790</td>\n",
       "      <td>-8.968476e-03</td>\n",
       "      <td>0.023619</td>\n",
       "      <td>0.024409</td>\n",
       "      <td>0.329838</td>\n",
       "    </tr>\n",
       "    <tr>\n",
       "      <th>OpenPorchSF</th>\n",
       "      <td>-0.004439</td>\n",
       "      <td>0.080700</td>\n",
       "      <td>0.080700</td>\n",
       "      <td>0.292409</td>\n",
       "      <td>-0.035555</td>\n",
       "      <td>0.188445</td>\n",
       "      <td>0.220249</td>\n",
       "      <td>0.117917</td>\n",
       "      <td>0.105718</td>\n",
       "      <td>0.005429</td>\n",
       "      <td>...</td>\n",
       "      <td>0.052166</td>\n",
       "      <td>1.000000</td>\n",
       "      <td>-0.090373</td>\n",
       "      <td>-0.004633</td>\n",
       "      <td>0.058490</td>\n",
       "      <td>0.061813</td>\n",
       "      <td>-1.785663e-02</td>\n",
       "      <td>0.075062</td>\n",
       "      <td>-0.055017</td>\n",
       "      <td>0.313934</td>\n",
       "    </tr>\n",
       "    <tr>\n",
       "      <th>EnclosedPorch</th>\n",
       "      <td>-0.012894</td>\n",
       "      <td>-0.015264</td>\n",
       "      <td>-0.015264</td>\n",
       "      <td>-0.108790</td>\n",
       "      <td>0.070026</td>\n",
       "      <td>-0.387675</td>\n",
       "      <td>-0.191724</td>\n",
       "      <td>-0.107564</td>\n",
       "      <td>-0.099368</td>\n",
       "      <td>0.036523</td>\n",
       "      <td>...</td>\n",
       "      <td>-0.124696</td>\n",
       "      <td>-0.090373</td>\n",
       "      <td>1.000000</td>\n",
       "      <td>-0.037736</td>\n",
       "      <td>-0.081780</td>\n",
       "      <td>0.061561</td>\n",
       "      <td>1.806751e-02</td>\n",
       "      <td>-0.030374</td>\n",
       "      <td>-0.009875</td>\n",
       "      <td>-0.127953</td>\n",
       "    </tr>\n",
       "    <tr>\n",
       "      <th>3SsnPorch</th>\n",
       "      <td>-0.044158</td>\n",
       "      <td>0.021695</td>\n",
       "      <td>0.021695</td>\n",
       "      <td>0.034195</td>\n",
       "      <td>0.025396</td>\n",
       "      <td>0.032522</td>\n",
       "      <td>0.046513</td>\n",
       "      <td>0.023096</td>\n",
       "      <td>0.029017</td>\n",
       "      <td>-0.030159</td>\n",
       "      <td>...</td>\n",
       "      <td>-0.032235</td>\n",
       "      <td>-0.004633</td>\n",
       "      <td>-0.037736</td>\n",
       "      <td>1.000000</td>\n",
       "      <td>-0.031204</td>\n",
       "      <td>-0.007458</td>\n",
       "      <td>2.552214e-04</td>\n",
       "      <td>0.029173</td>\n",
       "      <td>0.018798</td>\n",
       "      <td>0.056989</td>\n",
       "    </tr>\n",
       "    <tr>\n",
       "      <th>ScreenPorch</th>\n",
       "      <td>-0.028155</td>\n",
       "      <td>0.027306</td>\n",
       "      <td>0.027306</td>\n",
       "      <td>0.045042</td>\n",
       "      <td>0.043869</td>\n",
       "      <td>-0.044831</td>\n",
       "      <td>-0.047364</td>\n",
       "      <td>0.063829</td>\n",
       "      <td>0.065150</td>\n",
       "      <td>0.088033</td>\n",
       "      <td>...</td>\n",
       "      <td>-0.077477</td>\n",
       "      <td>0.058490</td>\n",
       "      <td>-0.081780</td>\n",
       "      <td>-0.031204</td>\n",
       "      <td>1.000000</td>\n",
       "      <td>0.060035</td>\n",
       "      <td>3.373640e-02</td>\n",
       "      <td>0.030600</td>\n",
       "      <td>0.009784</td>\n",
       "      <td>0.083698</td>\n",
       "    </tr>\n",
       "    <tr>\n",
       "      <th>PoolArea</th>\n",
       "      <td>0.007998</td>\n",
       "      <td>0.079446</td>\n",
       "      <td>0.079446</td>\n",
       "      <td>0.044094</td>\n",
       "      <td>0.003012</td>\n",
       "      <td>-0.002525</td>\n",
       "      <td>0.001338</td>\n",
       "      <td>0.021203</td>\n",
       "      <td>0.117881</td>\n",
       "      <td>0.047775</td>\n",
       "      <td>...</td>\n",
       "      <td>0.073790</td>\n",
       "      <td>0.061813</td>\n",
       "      <td>0.061561</td>\n",
       "      <td>-0.007458</td>\n",
       "      <td>0.060035</td>\n",
       "      <td>1.000000</td>\n",
       "      <td>3.263794e-02</td>\n",
       "      <td>-0.039115</td>\n",
       "      <td>-0.058086</td>\n",
       "      <td>0.034129</td>\n",
       "    </tr>\n",
       "    <tr>\n",
       "      <th>MiscVal</th>\n",
       "      <td>-0.007898</td>\n",
       "      <td>0.039260</td>\n",
       "      <td>0.039260</td>\n",
       "      <td>-0.030249</td>\n",
       "      <td>0.068917</td>\n",
       "      <td>-0.033957</td>\n",
       "      <td>-0.009559</td>\n",
       "      <td>-0.029081</td>\n",
       "      <td>0.005067</td>\n",
       "      <td>0.004915</td>\n",
       "      <td>...</td>\n",
       "      <td>-0.008968</td>\n",
       "      <td>-0.017857</td>\n",
       "      <td>0.018068</td>\n",
       "      <td>0.000255</td>\n",
       "      <td>0.033736</td>\n",
       "      <td>0.032638</td>\n",
       "      <td>1.000000e+00</td>\n",
       "      <td>-0.006851</td>\n",
       "      <td>0.004964</td>\n",
       "      <td>-0.019580</td>\n",
       "    </tr>\n",
       "    <tr>\n",
       "      <th>MoSold</th>\n",
       "      <td>-0.014725</td>\n",
       "      <td>0.003257</td>\n",
       "      <td>0.003257</td>\n",
       "      <td>0.082848</td>\n",
       "      <td>-0.003948</td>\n",
       "      <td>0.016181</td>\n",
       "      <td>0.025103</td>\n",
       "      <td>0.008570</td>\n",
       "      <td>-0.010258</td>\n",
       "      <td>-0.014422</td>\n",
       "      <td>...</td>\n",
       "      <td>0.023619</td>\n",
       "      <td>0.075062</td>\n",
       "      <td>-0.030374</td>\n",
       "      <td>0.029173</td>\n",
       "      <td>0.030600</td>\n",
       "      <td>-0.039115</td>\n",
       "      <td>-6.850569e-03</td>\n",
       "      <td>1.000000</td>\n",
       "      <td>-0.144186</td>\n",
       "      <td>0.077621</td>\n",
       "    </tr>\n",
       "    <tr>\n",
       "      <th>YrSold</th>\n",
       "      <td>-0.020312</td>\n",
       "      <td>-0.015853</td>\n",
       "      <td>-0.015853</td>\n",
       "      <td>-0.026061</td>\n",
       "      <td>0.048363</td>\n",
       "      <td>-0.018711</td>\n",
       "      <td>0.033797</td>\n",
       "      <td>-0.013872</td>\n",
       "      <td>0.009998</td>\n",
       "      <td>0.030043</td>\n",
       "      <td>...</td>\n",
       "      <td>0.024409</td>\n",
       "      <td>-0.055017</td>\n",
       "      <td>-0.009875</td>\n",
       "      <td>0.018798</td>\n",
       "      <td>0.009784</td>\n",
       "      <td>-0.058086</td>\n",
       "      <td>4.963617e-03</td>\n",
       "      <td>-0.144186</td>\n",
       "      <td>1.000000</td>\n",
       "      <td>-0.033238</td>\n",
       "    </tr>\n",
       "    <tr>\n",
       "      <th>SalePrice</th>\n",
       "      <td>-0.085239</td>\n",
       "      <td>0.253024</td>\n",
       "      <td>0.253024</td>\n",
       "      <td>0.797417</td>\n",
       "      <td>-0.077694</td>\n",
       "      <td>0.556850</td>\n",
       "      <td>0.535147</td>\n",
       "      <td>0.429747</td>\n",
       "      <td>0.358345</td>\n",
       "      <td>-0.010297</td>\n",
       "      <td>...</td>\n",
       "      <td>0.329838</td>\n",
       "      <td>0.313934</td>\n",
       "      <td>-0.127953</td>\n",
       "      <td>0.056989</td>\n",
       "      <td>0.083698</td>\n",
       "      <td>0.034129</td>\n",
       "      <td>-1.957979e-02</td>\n",
       "      <td>0.077621</td>\n",
       "      <td>-0.033238</td>\n",
       "      <td>1.000000</td>\n",
       "    </tr>\n",
       "  </tbody>\n",
       "</table>\n",
       "<p>36 rows × 36 columns</p>\n",
       "</div>"
      ],
      "text/plain": [
       "               MSSubClass  LotFrontage   LotArea  OverallQual  OverallCond  \\\n",
       "MSSubClass       1.000000    -0.141151 -0.141151     0.039744    -0.061964   \n",
       "LotFrontage     -0.141151     1.000000  1.000000     0.089340    -0.004818   \n",
       "LotArea         -0.141151     1.000000  1.000000     0.089340    -0.004818   \n",
       "OverallQual      0.039744     0.089340  0.089340     1.000000    -0.091582   \n",
       "OverallCond     -0.061964    -0.004818 -0.004818    -0.091582     1.000000   \n",
       "YearBuilt        0.031995     0.008506  0.008506     0.576217    -0.370417   \n",
       "YearRemodAdd     0.043593     0.006835  0.006835     0.548880     0.077660   \n",
       "MasVnrArea       0.030607     0.079680  0.079680     0.383921    -0.123320   \n",
       "BsmtFinSF1      -0.063468     0.205854  0.205854     0.212155    -0.038373   \n",
       "BsmtFinSF2      -0.064634     0.114193  0.114193    -0.060839     0.041197   \n",
       "BsmtUnfSF       -0.142641    -0.004085 -0.004085     0.304397    -0.139105   \n",
       "TotalBsmtSF     -0.237841     0.254565  0.254565     0.512568    -0.167835   \n",
       "1stFlrSF        -0.251821     0.294250  0.294250     0.446117    -0.141768   \n",
       "2ndFlrSF         0.311297     0.031089  0.031089     0.280370     0.027180   \n",
       "LowQualFinSF     0.044967    -0.004512 -0.004512    -0.054710     0.000493   \n",
       "GrLivArea        0.081204     0.246959  0.246959     0.569280    -0.083115   \n",
       "BsmtFullBath     0.007038     0.155245  0.155245     0.104344    -0.050804   \n",
       "BsmtHalfBath    -0.003116     0.047778  0.047778    -0.044173     0.117447   \n",
       "FullBath         0.135449     0.109915  0.109915     0.537457    -0.193584   \n",
       "HalfBath         0.179252     0.004907  0.004907     0.260687    -0.060520   \n",
       "BedroomAbvGr    -0.028530     0.113314  0.113314     0.098052     0.010525   \n",
       "KitchenAbvGr     0.281682    -0.016044 -0.016044    -0.184560    -0.087808   \n",
       "TotRmsAbvGrd     0.044311     0.172784  0.172784     0.398787    -0.057822   \n",
       "Fireplaces      -0.042644     0.267586  0.267586     0.378941    -0.023990   \n",
       "GarageCars      -0.036828     0.143329  0.143329     0.586967    -0.185899   \n",
       "GarageArea      -0.096069     0.169288  0.169288     0.546591    -0.151214   \n",
       "WoodDeckSF      -0.012810     0.160039  0.160039     0.229469     0.001151   \n",
       "OpenPorchSF     -0.004439     0.080700  0.080700     0.292409    -0.035555   \n",
       "EnclosedPorch   -0.012894    -0.015264 -0.015264    -0.108790     0.070026   \n",
       "3SsnPorch       -0.044158     0.021695  0.021695     0.034195     0.025396   \n",
       "ScreenPorch     -0.028155     0.027306  0.027306     0.045042     0.043869   \n",
       "PoolArea         0.007998     0.079446  0.079446     0.044094     0.003012   \n",
       "MiscVal         -0.007898     0.039260  0.039260    -0.030249     0.068917   \n",
       "MoSold          -0.014725     0.003257  0.003257     0.082848    -0.003948   \n",
       "YrSold          -0.020312    -0.015853 -0.015853    -0.026061     0.048363   \n",
       "SalePrice       -0.085239     0.253024  0.253024     0.797417    -0.077694   \n",
       "\n",
       "               YearBuilt  YearRemodAdd  MasVnrArea  BsmtFinSF1  BsmtFinSF2  \\\n",
       "MSSubClass      0.031995      0.043593    0.030607   -0.063468   -0.064634   \n",
       "LotFrontage     0.008506      0.006835    0.079680    0.205854    0.114193   \n",
       "LotArea         0.008506      0.006835    0.079680    0.205854    0.114193   \n",
       "OverallQual     0.576217      0.548880    0.383921    0.212155   -0.060839   \n",
       "OverallCond    -0.370417      0.077660   -0.123320   -0.038373    0.041197   \n",
       "YearBuilt       1.000000      0.591160    0.305638    0.238925   -0.050206   \n",
       "YearRemodAdd    0.591160      1.000000    0.165875    0.117905   -0.068354   \n",
       "MasVnrArea      0.305638      0.165875    1.000000    0.237787   -0.070016   \n",
       "BsmtFinSF1      0.238925      0.117905    0.237787    1.000000   -0.053903   \n",
       "BsmtFinSF2     -0.050206     -0.068354   -0.070016   -0.053903    1.000000   \n",
       "BsmtUnfSF       0.147353      0.177376    0.105752   -0.506581   -0.211581   \n",
       "TotalBsmtSF     0.382878      0.280227    0.331336    0.504755    0.104492   \n",
       "1stFlrSF        0.270510      0.227586    0.308686    0.424797    0.099734   \n",
       "2ndFlrSF        0.006203      0.136102    0.149021   -0.157387   -0.096481   \n",
       "LowQualFinSF   -0.171161     -0.068145   -0.068251   -0.059209    0.017999   \n",
       "GrLivArea       0.192422      0.280766    0.352654    0.178797   -0.005931   \n",
       "BsmtFullBath    0.183474      0.116500    0.077900    0.650673    0.158654   \n",
       "BsmtHalfBath   -0.038968     -0.011773    0.016976    0.066863    0.072324   \n",
       "FullBath        0.465269      0.434529    0.245184    0.038288   -0.075167   \n",
       "HalfBath        0.239774      0.177657    0.187890   -0.006676   -0.028075   \n",
       "BedroomAbvGr   -0.070841     -0.042310    0.099275   -0.104843   -0.012509   \n",
       "KitchenAbvGr   -0.174522     -0.148423   -0.035520   -0.079817   -0.041009   \n",
       "TotRmsAbvGrd    0.083374      0.177855    0.247095    0.016209   -0.034966   \n",
       "Fireplaces      0.141898      0.102813    0.230771    0.246656    0.046538   \n",
       "GarageCars      0.536072      0.413412    0.347208    0.206449   -0.038106   \n",
       "GarageArea      0.476338      0.363441    0.353521    0.281570   -0.015834   \n",
       "WoodDeckSF      0.219925      0.202990    0.139673    0.197029    0.072967   \n",
       "OpenPorchSF     0.188445      0.220249    0.117917    0.105718    0.005429   \n",
       "EnclosedPorch  -0.387675     -0.191724   -0.107564   -0.099368    0.036523   \n",
       "3SsnPorch       0.032522      0.046513    0.023096    0.029017   -0.030159   \n",
       "ScreenPorch    -0.044831     -0.047364    0.063829    0.065150    0.088033   \n",
       "PoolArea       -0.002525      0.001338    0.021203    0.117881    0.047775   \n",
       "MiscVal        -0.033957     -0.009559   -0.029081    0.005067    0.004915   \n",
       "MoSold          0.016181      0.025103    0.008570   -0.010258   -0.014422   \n",
       "YrSold         -0.018711      0.033797   -0.013872    0.009998    0.030043   \n",
       "SalePrice       0.556850      0.535147    0.429747    0.358345   -0.010297   \n",
       "\n",
       "                 ...      WoodDeckSF  OpenPorchSF  EnclosedPorch  3SsnPorch  \\\n",
       "MSSubClass       ...       -0.012810    -0.004439      -0.012894  -0.044158   \n",
       "LotFrontage      ...        0.160039     0.080700      -0.015264   0.021695   \n",
       "LotArea          ...        0.160039     0.080700      -0.015264   0.021695   \n",
       "OverallQual      ...        0.229469     0.292409      -0.108790   0.034195   \n",
       "OverallCond      ...        0.001151    -0.035555       0.070026   0.025396   \n",
       "YearBuilt        ...        0.219925     0.188445      -0.387675   0.032522   \n",
       "YearRemodAdd     ...        0.202990     0.220249      -0.191724   0.046513   \n",
       "MasVnrArea       ...        0.139673     0.117917      -0.107564   0.023096   \n",
       "BsmtFinSF1       ...        0.197029     0.105718      -0.099368   0.029017   \n",
       "BsmtFinSF2       ...        0.072967     0.005429       0.036523  -0.030159   \n",
       "BsmtUnfSF        ...       -0.008597     0.122045      -0.000114   0.021790   \n",
       "TotalBsmtSF      ...        0.225061     0.238433      -0.090311   0.041395   \n",
       "1stFlrSF         ...        0.227820     0.199119      -0.058953   0.060635   \n",
       "2ndFlrSF         ...        0.076241     0.205127       0.067953  -0.023475   \n",
       "LowQualFinSF     ...       -0.019656    -0.006901       0.066813  -0.003659   \n",
       "GrLivArea        ...        0.234287     0.324066       0.020023   0.025103   \n",
       "BsmtFullBath     ...        0.172919     0.065107      -0.048724   0.000368   \n",
       "BsmtHalfBath     ...        0.036055    -0.023298      -0.008405   0.035380   \n",
       "FullBath         ...        0.175015     0.253994      -0.111265   0.037953   \n",
       "HalfBath         ...        0.098218     0.190874      -0.092709  -0.003936   \n",
       "BedroomAbvGr     ...        0.038912     0.092270       0.043151  -0.024309   \n",
       "KitchenAbvGr     ...       -0.089531    -0.068679       0.036608  -0.024846   \n",
       "TotRmsAbvGrd     ...        0.155783     0.219829       0.012436  -0.004245   \n",
       "Fireplaces       ...        0.196920     0.160027      -0.020292   0.012966   \n",
       "GarageCars       ...        0.218819     0.200770      -0.147745   0.038133   \n",
       "GarageArea       ...        0.218676     0.228786      -0.117693   0.037667   \n",
       "WoodDeckSF       ...        1.000000     0.052166      -0.124696  -0.032235   \n",
       "OpenPorchSF      ...        0.052166     1.000000      -0.090373  -0.004633   \n",
       "EnclosedPorch    ...       -0.124696    -0.090373       1.000000  -0.037736   \n",
       "3SsnPorch        ...       -0.032235    -0.004633      -0.037736   1.000000   \n",
       "ScreenPorch      ...       -0.077477     0.058490      -0.081780  -0.031204   \n",
       "PoolArea         ...        0.073790     0.061813       0.061561  -0.007458   \n",
       "MiscVal          ...       -0.008968    -0.017857       0.018068   0.000255   \n",
       "MoSold           ...        0.023619     0.075062      -0.030374   0.029173   \n",
       "YrSold           ...        0.024409    -0.055017      -0.009875   0.018798   \n",
       "SalePrice        ...        0.329838     0.313934      -0.127953   0.056989   \n",
       "\n",
       "               ScreenPorch  PoolArea       MiscVal    MoSold    YrSold  \\\n",
       "MSSubClass       -0.028155  0.007998 -7.897532e-03 -0.014725 -0.020312   \n",
       "LotFrontage       0.027306  0.079446  3.926034e-02  0.003257 -0.015853   \n",
       "LotArea           0.027306  0.079446  3.926034e-02  0.003257 -0.015853   \n",
       "OverallQual       0.045042  0.044094 -3.024910e-02  0.082848 -0.026061   \n",
       "OverallCond       0.043869  0.003012  6.891651e-02 -0.003948  0.048363   \n",
       "YearBuilt        -0.044831 -0.002525 -3.395701e-02  0.016181 -0.018711   \n",
       "YearRemodAdd     -0.047364  0.001338 -9.558943e-03  0.025103  0.033797   \n",
       "MasVnrArea        0.063829  0.021203 -2.908111e-02  0.008570 -0.013872   \n",
       "BsmtFinSF1        0.065150  0.117881  5.066697e-03 -0.010258  0.009998   \n",
       "BsmtFinSF2        0.088033  0.047775  4.915139e-03 -0.014422  0.030043   \n",
       "BsmtUnfSF        -0.023226 -0.031394 -2.350433e-02  0.040401 -0.038415   \n",
       "TotalBsmtSF       0.077636  0.109178 -1.704132e-02  0.025407 -0.017716   \n",
       "1stFlrSF          0.081019  0.113151 -1.970519e-02  0.043817 -0.014858   \n",
       "2ndFlrSF          0.021629  0.049297  1.766748e-02  0.040900 -0.024443   \n",
       "LowQualFinSF     -0.031593  0.071707 -3.340756e-03 -0.022814 -0.018875   \n",
       "GrLivArea         0.076350  0.133687 -7.997303e-08  0.065715 -0.033787   \n",
       "BsmtFullBath      0.025944  0.061800 -2.280486e-02 -0.026213  0.065376   \n",
       "BsmtHalfBath      0.036400  0.024080 -7.358690e-03  0.038020 -0.045221   \n",
       "FullBath         -0.023435  0.028291 -1.308547e-02  0.064069 -0.019721   \n",
       "HalfBath          0.066427  0.012197  2.105172e-03 -0.005391 -0.008314   \n",
       "BedroomAbvGr      0.034770  0.062433  8.125620e-03  0.048930 -0.032990   \n",
       "KitchenAbvGr     -0.051039 -0.013557  6.217698e-02  0.025924  0.031956   \n",
       "TotRmsAbvGrd      0.028538  0.071519  2.749706e-02  0.048996 -0.039918   \n",
       "Fireplaces        0.176727  0.081912  2.608850e-03  0.054728 -0.024966   \n",
       "GarageCars        0.036190  0.006800 -4.224124e-02  0.047485 -0.040398   \n",
       "GarageArea        0.036290  0.051201 -2.634802e-02  0.035351 -0.030169   \n",
       "WoodDeckSF       -0.077477  0.073790 -8.968476e-03  0.023619  0.024409   \n",
       "OpenPorchSF       0.058490  0.061813 -1.785663e-02  0.075062 -0.055017   \n",
       "EnclosedPorch    -0.081780  0.061561  1.806751e-02 -0.030374 -0.009875   \n",
       "3SsnPorch        -0.031204 -0.007458  2.552214e-04  0.029173  0.018798   \n",
       "ScreenPorch       1.000000  0.060035  3.373640e-02  0.030600  0.009784   \n",
       "PoolArea          0.060035  1.000000  3.263794e-02 -0.039115 -0.058086   \n",
       "MiscVal           0.033736  0.032638  1.000000e+00 -0.006851  0.004964   \n",
       "MoSold            0.030600 -0.039115 -6.850569e-03  1.000000 -0.144186   \n",
       "YrSold            0.009784 -0.058086  4.963617e-03 -0.144186  1.000000   \n",
       "SalePrice         0.083698  0.034129 -1.957979e-02  0.077621 -0.033238   \n",
       "\n",
       "               SalePrice  \n",
       "MSSubClass     -0.085239  \n",
       "LotFrontage     0.253024  \n",
       "LotArea         0.253024  \n",
       "OverallQual     0.797417  \n",
       "OverallCond    -0.077694  \n",
       "YearBuilt       0.556850  \n",
       "YearRemodAdd    0.535147  \n",
       "MasVnrArea      0.429747  \n",
       "BsmtFinSF1      0.358345  \n",
       "BsmtFinSF2     -0.010297  \n",
       "BsmtUnfSF       0.213918  \n",
       "TotalBsmtSF     0.591577  \n",
       "1stFlrSF        0.581538  \n",
       "2ndFlrSF        0.291574  \n",
       "LowQualFinSF   -0.060270  \n",
       "GrLivArea       0.679962  \n",
       "BsmtFullBath    0.239577  \n",
       "BsmtHalfBath   -0.030566  \n",
       "FullBath        0.553937  \n",
       "HalfBath        0.275374  \n",
       "BedroomAbvGr    0.169073  \n",
       "KitchenAbvGr   -0.144030  \n",
       "TotRmsAbvGrd    0.502258  \n",
       "Fireplaces      0.463399  \n",
       "GarageCars      0.652880  \n",
       "GarageArea      0.631034  \n",
       "WoodDeckSF      0.329838  \n",
       "OpenPorchSF     0.313934  \n",
       "EnclosedPorch  -0.127953  \n",
       "3SsnPorch       0.056989  \n",
       "ScreenPorch     0.083698  \n",
       "PoolArea        0.034129  \n",
       "MiscVal        -0.019580  \n",
       "MoSold          0.077621  \n",
       "YrSold         -0.033238  \n",
       "SalePrice       1.000000  \n",
       "\n",
       "[36 rows x 36 columns]"
      ]
     },
     "execution_count": 82,
     "metadata": {},
     "output_type": "execute_result"
    }
   ],
   "source": [
    "df_new.corr()"
   ]
  },
  {
   "cell_type": "code",
   "execution_count": 85,
   "metadata": {},
   "outputs": [
    {
     "data": {
      "text/plain": [
       "(1446, 357)"
      ]
     },
     "execution_count": 85,
     "metadata": {},
     "output_type": "execute_result"
    }
   ],
   "source": [
    "df_dummy = pd.get_dummies(df_new, drop_first=True)\n",
    "df_dummy.shape"
   ]
  },
  {
   "cell_type": "code",
   "execution_count": 86,
   "metadata": {},
   "outputs": [
    {
     "data": {
      "text/plain": [
       "<matplotlib.axes._subplots.AxesSubplot at 0x28ab6de3fd0>"
      ]
     },
     "execution_count": 86,
     "metadata": {},
     "output_type": "execute_result"
    },
    {
     "data": {
      "image/png": "[encoded data removed]",
      "text/plain": [
       "<matplotlib.figure.Figure at 0x28ab6defa58>"
      ]
     },
     "metadata": {},
     "output_type": "display_data"
    }
   ],
   "source": [
    "sns.boxplot(x='Street',y='SalePrice', data=df_new)\n",
    "sns.swarmplot(x='Street',y='SalePrice', data=df_new, palette='spring')"
   ]
  },
  {
   "cell_type": "code",
   "execution_count": 87,
   "metadata": {},
   "outputs": [
    {
     "data": {
      "text/plain": [
       "<matplotlib.axes._subplots.AxesSubplot at 0x28ab6f5dba8>"
      ]
     },
     "execution_count": 87,
     "metadata": {},
     "output_type": "execute_result"
    },
    {
     "data": {
      "image/png": "[encoded data removed]",
      "text/plain": [
       "<matplotlib.figure.Figure at 0x28ab6ebc1d0>"
      ]
     },
     "metadata": {},
     "output_type": "display_data"
    }
   ],
   "source": [
    "sns.boxplot(x=df_dummy.YearBuilt, y=df_dummy.SalePrice)"
   ]
  },
  {
   "cell_type": "code",
   "execution_count": 88,
   "metadata": {},
   "outputs": [
    {
     "data": {
      "text/plain": [
       "Pave    1440\n",
       "Grvl       6\n",
       "Name: Street, dtype: int64"
      ]
     },
     "execution_count": 88,
     "metadata": {},
     "output_type": "execute_result"
    }
   ],
   "source": [
    "df_new.Street.value_counts()"
   ]
  },
  {
   "cell_type": "code",
   "execution_count": 89,
   "metadata": {},
   "outputs": [
    {
     "data": {
      "text/plain": [
       "<matplotlib.axes._subplots.AxesSubplot at 0x28ab77769e8>"
      ]
     },
     "execution_count": 89,
     "metadata": {},
     "output_type": "execute_result"
    },
    {
     "data": {
      "image/png": "[encoded data removed]",
      "text/plain": [
       "<matplotlib.figure.Figure at 0x28ab7742e80>"
      ]
     },
     "metadata": {},
     "output_type": "display_data"
    }
   ],
   "source": [
    "sns.stripplot(x='SalePrice', data=df_new, color='green')"
   ]
  },
  {
   "cell_type": "code",
   "execution_count": 90,
   "metadata": {},
   "outputs": [
    {
     "data": {
      "text/plain": [
       "<matplotlib.axes._subplots.AxesSubplot at 0x28ab76e1978>"
      ]
     },
     "execution_count": 90,
     "metadata": {},
     "output_type": "execute_result"
    },
    {
     "data": {
      "image/png": "[encoded data removed]",
      "text/plain": [
       "<matplotlib.figure.Figure at 0x28ab76bfc18>"
      ]
     },
     "metadata": {},
     "output_type": "display_data"
    }
   ],
   "source": [
    "sns.stripplot(x='HouseStyle', y='SalePrice', data=df_new )"
   ]
  },
  {
   "cell_type": "code",
   "execution_count": 91,
   "metadata": {},
   "outputs": [
    {
     "data": {
      "text/plain": [
       "<matplotlib.axes._subplots.AxesSubplot at 0x28ab7673550>"
      ]
     },
     "execution_count": 91,
     "metadata": {},
     "output_type": "execute_result"
    },
    {
     "data": {
      "image/png": "[encoded data removed]",
      "text/plain": [
       "<matplotlib.figure.Figure at 0x28ab76bf748>"
      ]
     },
     "metadata": {},
     "output_type": "display_data"
    }
   ],
   "source": [
    "sns.stripplot(x='HouseStyle', y='SalePrice', data=df_new, hue='MSZoning' )"
   ]
  },
  {
   "cell_type": "code",
   "execution_count": 92,
   "metadata": {},
   "outputs": [
    {
     "data": {
      "text/plain": [
       "<matplotlib.axes._subplots.AxesSubplot at 0x28ab790e6d8>"
      ]
     },
     "execution_count": 92,
     "metadata": {},
     "output_type": "execute_result"
    },
    {
     "data": {
      "image/png": "[encoded data removed]",
      "text/plain": [
       "<matplotlib.figure.Figure at 0x28ab6f67978>"
      ]
     },
     "metadata": {},
     "output_type": "display_data"
    }
   ],
   "source": [
    "sns.stripplot(x='LotArea', y='SalePrice', data=df_new, hue='HouseStyle' , size=5, marker='D')"
   ]
  },
  {
   "cell_type": "code",
   "execution_count": 93,
   "metadata": {},
   "outputs": [
    {
     "data": {
      "text/plain": [
       "<matplotlib.axes._subplots.AxesSubplot at 0x28ab9a88a58>"
      ]
     },
     "execution_count": 93,
     "metadata": {},
     "output_type": "execute_result"
    },
    {
     "data": {
      "image/png": "[encoded data removed]",
      "text/plain": [
       "<matplotlib.figure.Figure at 0x28ab790eda0>"
      ]
     },
     "metadata": {},
     "output_type": "display_data"
    }
   ],
   "source": [
    "sns.barplot(x='Condition1', y='SalePrice', data= df_new, hue='MSZoning')"
   ]
  },
  {
   "cell_type": "code",
   "execution_count": 94,
   "metadata": {},
   "outputs": [
    {
     "data": {
      "text/plain": [
       "<matplotlib.axes._subplots.AxesSubplot at 0x28ab9b6f5c0>"
      ]
     },
     "execution_count": 94,
     "metadata": {},
     "output_type": "execute_result"
    },
    {
     "data": {
      "image/png": "[encoded data removed]",
      "text/plain": [
       "<matplotlib.figure.Figure at 0x28ab9b8a9e8>"
      ]
     },
     "metadata": {},
     "output_type": "display_data"
    }
   ],
   "source": [
    "sns.violinplot(x='Street', y='SalePrice', data =df_new, hue='MSZoning')"
   ]
  },
  {
   "cell_type": "code",
   "execution_count": 95,
   "metadata": {},
   "outputs": [
    {
     "data": {
      "text/html": [
       "<div>\n",
       "<style scoped>\n",
       "    .dataframe tbody tr th:only-of-type {\n",
       "        vertical-align: middle;\n",
       "    }\n",
       "\n",
       "    .dataframe tbody tr th {\n",
       "        vertical-align: top;\n",
       "    }\n",
       "\n",
       "    .dataframe thead th {\n",
       "        text-align: right;\n",
       "    }\n",
       "</style>\n",
       "<table border=\"1\" class=\"dataframe\">\n",
       "  <thead>\n",
       "    <tr style=\"text-align: right;\">\n",
       "      <th></th>\n",
       "      <th>MSSubClass</th>\n",
       "      <th>LotFrontage</th>\n",
       "      <th>LotArea</th>\n",
       "      <th>OverallQual</th>\n",
       "      <th>OverallCond</th>\n",
       "      <th>YearBuilt</th>\n",
       "      <th>YearRemodAdd</th>\n",
       "      <th>MasVnrArea</th>\n",
       "      <th>BsmtFinSF1</th>\n",
       "      <th>BsmtFinSF2</th>\n",
       "      <th>...</th>\n",
       "      <th>SaleType_ConLI</th>\n",
       "      <th>SaleType_ConLw</th>\n",
       "      <th>SaleType_New</th>\n",
       "      <th>SaleType_Oth</th>\n",
       "      <th>SaleType_WD</th>\n",
       "      <th>SaleCondition_AdjLand</th>\n",
       "      <th>SaleCondition_Alloca</th>\n",
       "      <th>SaleCondition_Family</th>\n",
       "      <th>SaleCondition_Normal</th>\n",
       "      <th>SaleCondition_Partial</th>\n",
       "    </tr>\n",
       "  </thead>\n",
       "  <tbody>\n",
       "    <tr>\n",
       "      <th>0</th>\n",
       "      <td>60</td>\n",
       "      <td>8450</td>\n",
       "      <td>8450</td>\n",
       "      <td>7</td>\n",
       "      <td>5</td>\n",
       "      <td>2003</td>\n",
       "      <td>2003</td>\n",
       "      <td>196</td>\n",
       "      <td>706</td>\n",
       "      <td>0</td>\n",
       "      <td>...</td>\n",
       "      <td>0</td>\n",
       "      <td>0</td>\n",
       "      <td>0</td>\n",
       "      <td>0</td>\n",
       "      <td>1</td>\n",
       "      <td>0</td>\n",
       "      <td>0</td>\n",
       "      <td>0</td>\n",
       "      <td>1</td>\n",
       "      <td>0</td>\n",
       "    </tr>\n",
       "    <tr>\n",
       "      <th>1</th>\n",
       "      <td>20</td>\n",
       "      <td>9600</td>\n",
       "      <td>9600</td>\n",
       "      <td>6</td>\n",
       "      <td>8</td>\n",
       "      <td>1976</td>\n",
       "      <td>1976</td>\n",
       "      <td>0</td>\n",
       "      <td>978</td>\n",
       "      <td>0</td>\n",
       "      <td>...</td>\n",
       "      <td>0</td>\n",
       "      <td>0</td>\n",
       "      <td>0</td>\n",
       "      <td>0</td>\n",
       "      <td>1</td>\n",
       "      <td>0</td>\n",
       "      <td>0</td>\n",
       "      <td>0</td>\n",
       "      <td>1</td>\n",
       "      <td>0</td>\n",
       "    </tr>\n",
       "    <tr>\n",
       "      <th>2</th>\n",
       "      <td>60</td>\n",
       "      <td>11250</td>\n",
       "      <td>11250</td>\n",
       "      <td>7</td>\n",
       "      <td>5</td>\n",
       "      <td>2001</td>\n",
       "      <td>2002</td>\n",
       "      <td>162</td>\n",
       "      <td>486</td>\n",
       "      <td>0</td>\n",
       "      <td>...</td>\n",
       "      <td>0</td>\n",
       "      <td>0</td>\n",
       "      <td>0</td>\n",
       "      <td>0</td>\n",
       "      <td>1</td>\n",
       "      <td>0</td>\n",
       "      <td>0</td>\n",
       "      <td>0</td>\n",
       "      <td>1</td>\n",
       "      <td>0</td>\n",
       "    </tr>\n",
       "    <tr>\n",
       "      <th>3</th>\n",
       "      <td>70</td>\n",
       "      <td>9550</td>\n",
       "      <td>9550</td>\n",
       "      <td>7</td>\n",
       "      <td>5</td>\n",
       "      <td>1915</td>\n",
       "      <td>1970</td>\n",
       "      <td>0</td>\n",
       "      <td>216</td>\n",
       "      <td>0</td>\n",
       "      <td>...</td>\n",
       "      <td>0</td>\n",
       "      <td>0</td>\n",
       "      <td>0</td>\n",
       "      <td>0</td>\n",
       "      <td>1</td>\n",
       "      <td>0</td>\n",
       "      <td>0</td>\n",
       "      <td>0</td>\n",
       "      <td>0</td>\n",
       "      <td>0</td>\n",
       "    </tr>\n",
       "    <tr>\n",
       "      <th>4</th>\n",
       "      <td>60</td>\n",
       "      <td>14260</td>\n",
       "      <td>14260</td>\n",
       "      <td>8</td>\n",
       "      <td>5</td>\n",
       "      <td>2000</td>\n",
       "      <td>2000</td>\n",
       "      <td>350</td>\n",
       "      <td>655</td>\n",
       "      <td>0</td>\n",
       "      <td>...</td>\n",
       "      <td>0</td>\n",
       "      <td>0</td>\n",
       "      <td>0</td>\n",
       "      <td>0</td>\n",
       "      <td>1</td>\n",
       "      <td>0</td>\n",
       "      <td>0</td>\n",
       "      <td>0</td>\n",
       "      <td>1</td>\n",
       "      <td>0</td>\n",
       "    </tr>\n",
       "  </tbody>\n",
       "</table>\n",
       "<p>5 rows × 357 columns</p>\n",
       "</div>"
      ],
      "text/plain": [
       "   MSSubClass  LotFrontage  LotArea  OverallQual  OverallCond  YearBuilt  \\\n",
       "0          60         8450     8450            7            5       2003   \n",
       "1          20         9600     9600            6            8       1976   \n",
       "2          60        11250    11250            7            5       2001   \n",
       "3          70         9550     9550            7            5       1915   \n",
       "4          60        14260    14260            8            5       2000   \n",
       "\n",
       "   YearRemodAdd  MasVnrArea  BsmtFinSF1  BsmtFinSF2          ...            \\\n",
       "0          2003         196         706           0          ...             \n",
       "1          1976           0         978           0          ...             \n",
       "2          2002         162         486           0          ...             \n",
       "3          1970           0         216           0          ...             \n",
       "4          2000         350         655           0          ...             \n",
       "\n",
       "   SaleType_ConLI  SaleType_ConLw  SaleType_New  SaleType_Oth  SaleType_WD  \\\n",
       "0               0               0             0             0            1   \n",
       "1               0               0             0             0            1   \n",
       "2               0               0             0             0            1   \n",
       "3               0               0             0             0            1   \n",
       "4               0               0             0             0            1   \n",
       "\n",
       "   SaleCondition_AdjLand  SaleCondition_Alloca  SaleCondition_Family  \\\n",
       "0                      0                     0                     0   \n",
       "1                      0                     0                     0   \n",
       "2                      0                     0                     0   \n",
       "3                      0                     0                     0   \n",
       "4                      0                     0                     0   \n",
       "\n",
       "   SaleCondition_Normal  SaleCondition_Partial  \n",
       "0                     1                      0  \n",
       "1                     1                      0  \n",
       "2                     1                      0  \n",
       "3                     0                      0  \n",
       "4                     1                      0  \n",
       "\n",
       "[5 rows x 357 columns]"
      ]
     },
     "execution_count": 95,
     "metadata": {},
     "output_type": "execute_result"
    }
   ],
   "source": [
    "df_dummy.head(5)"
   ]
  },
  {
   "cell_type": "code",
   "execution_count": 97,
   "metadata": {},
   "outputs": [],
   "source": [
    "target = df_dummy['SalePrice']\n",
    "source = df_dummy.drop(['SalePrice'], axis=1)"
   ]
  },
  {
   "cell_type": "code",
   "execution_count": 98,
   "metadata": {},
   "outputs": [
    {
     "data": {
      "text/plain": [
       "((1446,), (1446, 356))"
      ]
     },
     "execution_count": 98,
     "metadata": {},
     "output_type": "execute_result"
    }
   ],
   "source": [
    "target.shape,source.shape"
   ]
  },
  {
   "cell_type": "code",
   "execution_count": 106,
   "metadata": {},
   "outputs": [],
   "source": [
    "from sklearn.model_selection import train_test_split, cross_val_score\n",
    "from sklearn.linear_model import LinearRegression\n",
    "from sklearn.metrics import r2_score,mean_squared_error"
   ]
  },
  {
   "cell_type": "code",
   "execution_count": 107,
   "metadata": {},
   "outputs": [],
   "source": [
    "X_train, X_test, y_train, y_test = train_test_split(source, target, test_size = 0.3, random_state = 1)"
   ]
  },
  {
   "cell_type": "code",
   "execution_count": 108,
   "metadata": {},
   "outputs": [
    {
     "data": {
      "text/plain": [
       "LinearRegression(copy_X=True, fit_intercept=True, n_jobs=1, normalize=False)"
      ]
     },
     "execution_count": 108,
     "metadata": {},
     "output_type": "execute_result"
    }
   ],
   "source": [
    "model_lm = LinearRegression()\n",
    "model_lm.fit(X_train,y_train)"
   ]
  },
  {
   "cell_type": "code",
   "execution_count": 111,
   "metadata": {},
   "outputs": [],
   "source": [
    "y_pred = model_lm.predict(X_test)"
   ]
  },
  {
   "cell_type": "code",
   "execution_count": 112,
   "metadata": {},
   "outputs": [
    {
     "name": "stdout",
     "output_type": "stream",
     "text": [
      "Liner Regression r2 value  0.7163485455693654\n"
     ]
    }
   ],
   "source": [
    "print (\"Liner Regression r2 value \",r2_score(y_pred,y_test))"
   ]
  },
  {
   "cell_type": "code",
   "execution_count": 113,
   "metadata": {},
   "outputs": [],
   "source": [
    "def rmse(y_true, y_pred):\n",
    "    return np.sqrt(mean_squared_error(y_true, y_pred))"
   ]
  },
  {
   "cell_type": "code",
   "execution_count": 114,
   "metadata": {},
   "outputs": [
    {
     "data": {
      "text/plain": [
       "43090.14676885908"
      ]
     },
     "execution_count": 114,
     "metadata": {},
     "output_type": "execute_result"
    }
   ],
   "source": [
    "rmse(y_test,y_pred)"
   ]
  },
  {
   "cell_type": "code",
   "execution_count": 115,
   "metadata": {},
   "outputs": [],
   "source": [
    "from sklearn.tree import DecisionTreeRegressor"
   ]
  },
  {
   "cell_type": "code",
   "execution_count": 116,
   "metadata": {},
   "outputs": [
    {
     "data": {
      "text/plain": [
       "DecisionTreeRegressor(criterion='mse', max_depth=25, max_features=45,\n",
       "           max_leaf_nodes=None, min_impurity_decrease=0.0,\n",
       "           min_impurity_split=None, min_samples_leaf=4,\n",
       "           min_samples_split=2, min_weight_fraction_leaf=0.0,\n",
       "           presort=False, random_state=0, splitter='best')"
      ]
     },
     "execution_count": 116,
     "metadata": {},
     "output_type": "execute_result"
    }
   ],
   "source": [
    "model_dt = DecisionTreeRegressor(max_depth=25,max_features=45,random_state=0, min_samples_leaf=4)\n",
    "model_dt.fit(X_train,y_train)"
   ]
  },
  {
   "cell_type": "code",
   "execution_count": 117,
   "metadata": {},
   "outputs": [],
   "source": [
    "y_pred_tree = model_dt.predict(X_test)"
   ]
  },
  {
   "cell_type": "code",
   "execution_count": 118,
   "metadata": {},
   "outputs": [
    {
     "name": "stdout",
     "output_type": "stream",
     "text": [
      "DecisionTreeRegressor r2 value  0.7455900834977115\n"
     ]
    }
   ],
   "source": [
    "print (\"DecisionTreeRegressor r2 value \",r2_score(y_pred_tree,y_test))"
   ]
  },
  {
   "cell_type": "code",
   "execution_count": 119,
   "metadata": {},
   "outputs": [
    {
     "data": {
      "text/plain": [
       "38557.36783956318"
      ]
     },
     "execution_count": 119,
     "metadata": {},
     "output_type": "execute_result"
    }
   ],
   "source": [
    "rmse(y_pred_tree,y_pred)"
   ]
  },
  {
   "cell_type": "code",
   "execution_count": 120,
   "metadata": {},
   "outputs": [],
   "source": [
    "from sklearn.ensemble import RandomForestRegressor\n",
    "from sklearn.preprocessing import StandardScaler"
   ]
  },
  {
   "cell_type": "code",
   "execution_count": 121,
   "metadata": {},
   "outputs": [],
   "source": [
    "scaler = StandardScaler()\n",
    "X_train_std = scaler.fit_transform(X_train)\n",
    "X_test_std = scaler.fit_transform(X_test)"
   ]
  },
  {
   "cell_type": "code",
   "execution_count": 122,
   "metadata": {},
   "outputs": [
    {
     "data": {
      "text/plain": [
       "RandomForestRegressor(bootstrap=True, criterion='mse', max_depth=80,\n",
       "           max_features='auto', max_leaf_nodes=None,\n",
       "           min_impurity_decrease=0.0, min_impurity_split=None,\n",
       "           min_samples_leaf=1, min_samples_split=2,\n",
       "           min_weight_fraction_leaf=0.0, n_estimators=600, n_jobs=1,\n",
       "           oob_score=False, random_state=123, verbose=0, warm_start=False)"
      ]
     },
     "execution_count": 122,
     "metadata": {},
     "output_type": "execute_result"
    }
   ],
   "source": [
    "model_rf = RandomForestRegressor(n_estimators=600, max_depth=80,random_state = 123)\n",
    "model_rf.fit(X_train_std,y_train)"
   ]
  },
  {
   "cell_type": "code",
   "execution_count": 123,
   "metadata": {},
   "outputs": [],
   "source": [
    "y_pred_tree_1 = model_rf.predict(X_test_std)"
   ]
  },
  {
   "cell_type": "code",
   "execution_count": 124,
   "metadata": {},
   "outputs": [
    {
     "name": "stdout",
     "output_type": "stream",
     "text": [
      "RandomForestRegressor r2 value  0.7396342973996117\n"
     ]
    }
   ],
   "source": [
    "print (\"RandomForestRegressor r2 value \",r2_score(y_pred_tree_1,y_test))"
   ]
  },
  {
   "cell_type": "code",
   "execution_count": 125,
   "metadata": {},
   "outputs": [
    {
     "data": {
      "text/plain": [
       "34008.13635574312"
      ]
     },
     "execution_count": 125,
     "metadata": {},
     "output_type": "execute_result"
    }
   ],
   "source": [
    "rmse(y_pred_tree_1,y_pred) "
   ]
  },
  {
   "cell_type": "code",
   "execution_count": 126,
   "metadata": {},
   "outputs": [],
   "source": [
    "import xgboost as xgb "
   ]
  },
  {
   "cell_type": "code",
   "execution_count": 135,
   "metadata": {},
   "outputs": [],
   "source": [
    "model_xgb = xgb.XGBRegressor(max_depth=4)"
   ]
  },
  {
   "cell_type": "code",
   "execution_count": 136,
   "metadata": {},
   "outputs": [
    {
     "data": {
      "text/plain": [
       "XGBRegressor(base_score=0.5, booster='gbtree', colsample_bylevel=1,\n",
       "       colsample_bytree=1, gamma=0, learning_rate=0.1, max_delta_step=0,\n",
       "       max_depth=4, min_child_weight=1, missing=None, n_estimators=100,\n",
       "       n_jobs=1, nthread=None, objective='reg:linear', random_state=0,\n",
       "       reg_alpha=0, reg_lambda=1, scale_pos_weight=1, seed=None,\n",
       "       silent=True, subsample=1)"
      ]
     },
     "execution_count": 136,
     "metadata": {},
     "output_type": "execute_result"
    }
   ],
   "source": [
    "model_xgb.fit(X_train_std,y_train)"
   ]
  },
  {
   "cell_type": "code",
   "execution_count": 137,
   "metadata": {},
   "outputs": [],
   "source": [
    "y_xgb = model_xgb.predict(X_test_std)"
   ]
  },
  {
   "cell_type": "code",
   "execution_count": 138,
   "metadata": {},
   "outputs": [
    {
     "name": "stdout",
     "output_type": "stream",
     "text": [
      "XGBRegressor r2 value  0.7802851745811272\n"
     ]
    }
   ],
   "source": [
    "print (\"XGBRegressor r2 value \",r2_score(y_xgb,y_test))"
   ]
  },
  {
   "cell_type": "code",
   "execution_count": 139,
   "metadata": {},
   "outputs": [
    {
     "data": {
      "text/plain": [
       "32356.779710852737"
      ]
     },
     "execution_count": 139,
     "metadata": {},
     "output_type": "execute_result"
    }
   ],
   "source": [
    "rmse(y_xgb,y_pred)"
   ]
  },
  {
   "cell_type": "code",
   "execution_count": 141,
   "metadata": {},
   "outputs": [
    {
     "data": {
      "text/plain": [
       "0.7802851745811272"
      ]
     },
     "execution_count": 141,
     "metadata": {},
     "output_type": "execute_result"
    }
   ],
   "source": [
    "r2_score(y_xgb,y_test)"
   ]
  },
  {
   "cell_type": "code",
   "execution_count": 142,
   "metadata": {},
   "outputs": [],
   "source": [
    "from sklearn import cross_validation, metrics\n",
    "from sklearn.grid_search import GridSearchCV"
   ]
  },
  {
   "cell_type": "code",
   "execution_count": 145,
   "metadata": {},
   "outputs": [],
   "source": [
    "cv_scores = cross_validation.cross_val_score(model_xgb, X_train_std, y_train, cv=5, scoring=\"r2\")"
   ]
  },
  {
   "cell_type": "code",
   "execution_count": 146,
   "metadata": {},
   "outputs": [
    {
     "data": {
      "text/plain": [
       "(array([0.87285046, 0.90806639, 0.85913209, 0.89302349, 0.91816859]),\n",
       " 0.8902482020900632,\n",
       " 0.021797395609959695)"
      ]
     },
     "execution_count": 146,
     "metadata": {},
     "output_type": "execute_result"
    }
   ],
   "source": [
    "cv_scores, cv_scores.mean(), cv_scores.std()"
   ]
  },
  {
   "cell_type": "code",
   "execution_count": 147,
   "metadata": {},
   "outputs": [
    {
     "data": {
      "text/plain": [
       "(34900, 755000)"
      ]
     },
     "execution_count": 147,
     "metadata": {},
     "output_type": "execute_result"
    }
   ],
   "source": [
    "df.SalePrice.min(),df.SalePrice.max()"
   ]
  },
  {
   "cell_type": "code",
   "execution_count": 148,
   "metadata": {},
   "outputs": [
    {
     "name": "stdout",
     "output_type": "stream",
     "text": [
      "{'learning_rate': [0.1, 0.05, 0.02, 0.01], 'max_depth': [4, 6, 8]}\n",
      "Fitting 5 folds for each of 12 candidates, totalling 60 fits\n"
     ]
    },
    {
     "name": "stderr",
     "output_type": "stream",
     "text": [
      "[Parallel(n_jobs=-1)]: Done  24 tasks      | elapsed:   14.5s\n",
      "[Parallel(n_jobs=-1)]: Done  60 out of  60 | elapsed:   34.8s finished\n"
     ]
    }
   ],
   "source": [
    "gb_grid_params = {'learning_rate': [0.1, 0.05, 0.02, 0.01],\n",
    "              'max_depth': [4, 6, 8],\n",
    "                }\n",
    "print(gb_grid_params)\n",
    "\n",
    "\n",
    "\n",
    "gb_gs = xgb.XGBRegressor(max_depth=5)\n",
    "\n",
    "model_xgb = GridSearchCV(gb_gs,\n",
    "                   gb_grid_params,\n",
    "                   cv=5,\n",
    "                   scoring='r2',\n",
    "                   verbose = 3, \n",
    "                   n_jobs=-1);\n",
    "model_xgb.fit(X_train_std, y_train);"
   ]
  },
  {
   "cell_type": "code",
   "execution_count": 149,
   "metadata": {},
   "outputs": [
    {
     "data": {
      "text/plain": [
       "{'learning_rate': 0.1, 'max_depth': 4}"
      ]
     },
     "execution_count": 149,
     "metadata": {},
     "output_type": "execute_result"
    }
   ],
   "source": [
    "model_xgb.best_params_"
   ]
  },
  {
   "cell_type": "code",
   "execution_count": 150,
   "metadata": {},
   "outputs": [
    {
     "data": {
      "text/plain": [
       "0.8902486175435638"
      ]
     },
     "execution_count": 150,
     "metadata": {},
     "output_type": "execute_result"
    }
   ],
   "source": [
    "model_xgb.best_score_"
   ]
  },
  {
   "cell_type": "code",
   "execution_count": 151,
   "metadata": {},
   "outputs": [
    {
     "data": {
      "text/plain": [
       "XGBRegressor(base_score=0.5, booster='gbtree', colsample_bylevel=1,\n",
       "       colsample_bytree=1, gamma=0, learning_rate=0.1, max_delta_step=0,\n",
       "       max_depth=4, min_child_weight=1, missing=None, n_estimators=100,\n",
       "       n_jobs=1, nthread=None, objective='reg:linear', random_state=0,\n",
       "       reg_alpha=0, reg_lambda=1, scale_pos_weight=1, seed=None,\n",
       "       silent=True, subsample=1)"
      ]
     },
     "execution_count": 151,
     "metadata": {},
     "output_type": "execute_result"
    }
   ],
   "source": [
    "model_xgb.best_estimator_"
   ]
  },
  {
   "cell_type": "code",
   "execution_count": 152,
   "metadata": {},
   "outputs": [],
   "source": [
    "xgb_final = xgb.XGBRegressor(base_score=0.5, booster='gbtree', colsample_bylevel=1,\n",
    "       colsample_bytree=1, gamma=0, learning_rate=0.1, max_delta_step=0,\n",
    "       max_depth=4, min_child_weight=1, missing=None, n_estimators=150,\n",
    "       n_jobs=-1, nthread=None, objective='reg:linear', random_state=0,\n",
    "       reg_alpha=0, reg_lambda=1, scale_pos_weight=1, seed=None,\n",
    "       silent=True, subsample=1)"
   ]
  },
  {
   "cell_type": "code",
   "execution_count": 153,
   "metadata": {},
   "outputs": [],
   "source": [
    "xgb_final.fit(X_train_std, y_train);"
   ]
  },
  {
   "cell_type": "code",
   "execution_count": 154,
   "metadata": {},
   "outputs": [],
   "source": [
    "y_final = xgb_final.predict(X_test_std)"
   ]
  },
  {
   "cell_type": "code",
   "execution_count": 155,
   "metadata": {},
   "outputs": [
    {
     "data": {
      "text/plain": [
       "0.782917185000374"
      ]
     },
     "execution_count": 155,
     "metadata": {},
     "output_type": "execute_result"
    }
   ],
   "source": [
    "r2_score(y_final,y_test)"
   ]
  },
  {
   "cell_type": "code",
   "execution_count": 156,
   "metadata": {},
   "outputs": [
    {
     "data": {
      "image/png": "[encoded data removed]",
      "text/plain": [
       "<matplotlib.figure.Figure at 0x28ababb4898>"
      ]
     },
     "metadata": {},
     "output_type": "display_data"
    }
   ],
   "source": [
    "plt.figure(figsize=(10, 5))\n",
    "plt.scatter(y_test, y_final, s=20)\n",
    "plt.title('Predicted vs. Actual')\n",
    "plt.xlabel('Actual Sale Price')\n",
    "plt.ylabel('Predicted Sale Price')\n",
    "\n",
    "plt.plot([min(y_test), max(y_test)], [min(y_test), max(y_test)])\n",
    "plt.tight_layout()\n",
    "\n",
    "\n"
   ]
  },
  {
   "cell_type": "code",
   "execution_count": 157,
   "metadata": {},
   "outputs": [
    {
     "data": {
      "image/png": "[encoded data removed]",
      "text/plain": [
       "<matplotlib.figure.Figure at 0x28ababb6a20>"
      ]
     },
     "metadata": {},
     "output_type": "display_data"
    }
   ],
   "source": [
    "###Compare with others \n",
    "\n",
    "plt.subplot(1, 2, 1)\n",
    "plt.scatter(y_test, y_final, s=20)\n",
    "plt.title('Predicted vs. Actual - Liner')\n",
    "plt.xlabel('Actual Sale Price')\n",
    "plt.ylabel('Predicted Sale Price')\n",
    "\n",
    "plt.plot([min(y_test), max(y_test)], [min(y_test), max(y_test)])\n",
    "plt.tight_layout()\n",
    "\n",
    "plt.subplot(1, 2, 2)\n",
    "plt.scatter(y_test, y_pred_tree, s=20)\n",
    "plt.title('Predicted vs. Actual - De Tree')\n",
    "plt.xlabel('Actual Sale Price')\n",
    "plt.ylabel('Predicted Sale Price')\n",
    "\n",
    "plt.plot([min(y_test), max(y_test)], [min(y_test), max(y_test)])\n",
    "plt.tight_layout()\n"
   ]
  },
  {
   "cell_type": "code",
   "execution_count": 158,
   "metadata": {},
   "outputs": [
    {
     "data": {
      "image/png": "[encoded data removed]",
      "text/plain": [
       "<matplotlib.figure.Figure at 0x28abac60080>"
      ]
     },
     "metadata": {},
     "output_type": "display_data"
    }
   ],
   "source": [
    "plt.subplot(1, 2, 1)\n",
    "plt.scatter(y_test, y_pred_tree_1, s=20)\n",
    "plt.title('Predicted vs. Actual - RandomForest')\n",
    "plt.xlabel('Actual Sale Price')\n",
    "plt.ylabel('Predicted Sale Price')\n",
    "\n",
    "plt.plot([min(y_test), max(y_test)], [min(y_test), max(y_test)])\n",
    "plt.tight_layout()\n",
    "\n",
    "plt.subplot(1, 2, 2)\n",
    "plt.scatter(y_test, y_final, s=20)\n",
    "plt.title('Predicted vs. Actual - XBoost')\n",
    "plt.xlabel('Actual Sale Price')\n",
    "plt.ylabel('Predicted Sale Price')\n",
    "\n",
    "plt.plot([min(y_test), max(y_test)], [min(y_test), max(y_test)])\n",
    "plt.tight_layout()\n"
   ]
  },
  {
   "cell_type": "code",
   "execution_count": 159,
   "metadata": {},
   "outputs": [
    {
     "name": "stdout",
     "output_type": "stream",
     "text": [
      "Liner Regression r2 value  0.7163485455693654\n",
      "DecisionTreeRegressor r2 value  0.7455900834977115\n",
      "RandomForestRegressor r2 value  0.7396342973996117\n",
      "XGBRegressor r2 value  0.782917185000374\n"
     ]
    }
   ],
   "source": [
    "print (\"Liner Regression r2 value \",r2_score(y_pred,y_test))\n",
    "print (\"DecisionTreeRegressor r2 value \",r2_score(y_pred_tree,y_test))\n",
    "print (\"RandomForestRegressor r2 value \",r2_score(y_pred_tree_1,y_test))\n",
    "print (\"XGBRegressor r2 value \",r2_score(y_final,y_test))"
   ]
  },
  {
   "cell_type": "code",
   "execution_count": 172,
   "metadata": {},
   "outputs": [],
   "source": [
    "Final=({'Linger': (r2_score(y_pred,y_test)),\n",
    "       'DecisionTreeRegressor': r2_score(y_pred_tree,y_test),\n",
    "       'RandomForestRegressor':r2_score(y_pred_tree_1,y_test),\n",
    "        'XGBRegressor':          r2_score(y_final,y_test)})       "
   ]
  },
  {
   "cell_type": "code",
   "execution_count": 173,
   "metadata": {},
   "outputs": [
    {
     "data": {
      "text/plain": [
       "Linger                   0.716349\n",
       "RandomForestRegressor    0.739634\n",
       "DecisionTreeRegressor    0.745590\n",
       "XGBRegressor             0.782917\n",
       "dtype: float64"
      ]
     },
     "execution_count": 173,
     "metadata": {},
     "output_type": "execute_result"
    }
   ],
   "source": [
    "result = pd.Series.from_array(Final).sort_values()\n",
    "result"
   ]
  },
  {
   "cell_type": "code",
   "execution_count": 162,
   "metadata": {},
   "outputs": [
    {
     "data": {
      "text/plain": [
       "Text(0.5,1,'Performance comparison of algorithms')"
      ]
     },
     "execution_count": 162,
     "metadata": {},
     "output_type": "execute_result"
    },
    {
     "data": {
      "image/png": "[encoded data removed]",
      "text/plain": [
       "<matplotlib.figure.Figure at 0x28abac65ac8>"
      ]
     },
     "metadata": {},
     "output_type": "display_data"
    }
   ],
   "source": [
    "result = pd.Series.from_array(Final).sort_values()\n",
    "result.plot.barh(width = 0.5)\n",
    "plt.title(\"Performance comparison of algorithms\")\n",
    "for y, r2 in enumerate(result):\n",
    "    plt.text(x = 0.01, y = y - 0.1,  s = \"%.3f\" % r2, fontweight='bold', color = \"white\")\n",
    "plt.title(\"Performance comparison of algorithms\")"
   ]
  },
  {
   "cell_type": "code",
   "execution_count": 163,
   "metadata": {},
   "outputs": [
    {
     "data": {
      "text/plain": [
       "'C:\\\\Users\\\\Sudheer\\\\Practice'"
      ]
     },
     "execution_count": 163,
     "metadata": {},
     "output_type": "execute_result"
    }
   ],
   "source": [
    "%pwd"
   ]
  },
  {
   "cell_type": "code",
   "execution_count": 164,
   "metadata": {},
   "outputs": [],
   "source": [
    "import pickle\n",
    "pickle.dump(model_lm, open('E:/Data_Science/Analytics_Path/Pikle_Files/model-lm.pkl', 'wb'))\n",
    "pickle.dump(model_dt, open('E:/Data_Science/Analytics_Path/Pikle_Files/model-dt.pkl', 'wb'))\n",
    "pickle.dump(model_rf, open('E:/Data_Science/Analytics_Path/Pikle_Files/model-rf.pkl', 'wb'))\n",
    "pickle.dump(model_xgb, open('E:/Data_Science/Analytics_Path/Pikle_Files/model-xgb.pkl', 'wb'))\n",
    "pickle.dump(scaler, open('E:/Data_Science/Analytics_Path/Pikle_Files/scaler.pkl', 'wb'))"
   ]
  },
  {
   "cell_type": "code",
   "execution_count": 165,
   "metadata": {},
   "outputs": [],
   "source": [
    "outcome = pd.DataFrame({\"actual\": y_test,\"pred\": y_final}) \n",
    "outcome[\"diff\"] = outcome.actual - outcome.pred"
   ]
  },
  {
   "cell_type": "code",
   "execution_count": 166,
   "metadata": {},
   "outputs": [
    {
     "data": {
      "text/html": [
       "<div>\n",
       "<style scoped>\n",
       "    .dataframe tbody tr th:only-of-type {\n",
       "        vertical-align: middle;\n",
       "    }\n",
       "\n",
       "    .dataframe tbody tr th {\n",
       "        vertical-align: top;\n",
       "    }\n",
       "\n",
       "    .dataframe thead th {\n",
       "        text-align: right;\n",
       "    }\n",
       "</style>\n",
       "<table border=\"1\" class=\"dataframe\">\n",
       "  <thead>\n",
       "    <tr style=\"text-align: right;\">\n",
       "      <th></th>\n",
       "      <th>actual</th>\n",
       "      <th>pred</th>\n",
       "      <th>diff</th>\n",
       "    </tr>\n",
       "  </thead>\n",
       "  <tbody>\n",
       "    <tr>\n",
       "      <th>60</th>\n",
       "      <td>158000</td>\n",
       "      <td>169830.531250</td>\n",
       "      <td>-11830.531250</td>\n",
       "    </tr>\n",
       "    <tr>\n",
       "      <th>1403</th>\n",
       "      <td>282922</td>\n",
       "      <td>259008.875000</td>\n",
       "      <td>23913.125000</td>\n",
       "    </tr>\n",
       "    <tr>\n",
       "      <th>1095</th>\n",
       "      <td>176432</td>\n",
       "      <td>169433.750000</td>\n",
       "      <td>6998.250000</td>\n",
       "    </tr>\n",
       "    <tr>\n",
       "      <th>1018</th>\n",
       "      <td>160000</td>\n",
       "      <td>167351.296875</td>\n",
       "      <td>-7351.296875</td>\n",
       "    </tr>\n",
       "    <tr>\n",
       "      <th>771</th>\n",
       "      <td>102000</td>\n",
       "      <td>116784.367188</td>\n",
       "      <td>-14784.367188</td>\n",
       "    </tr>\n",
       "    <tr>\n",
       "      <th>849</th>\n",
       "      <td>187000</td>\n",
       "      <td>176727.062500</td>\n",
       "      <td>10272.937500</td>\n",
       "    </tr>\n",
       "    <tr>\n",
       "      <th>210</th>\n",
       "      <td>98000</td>\n",
       "      <td>97907.460938</td>\n",
       "      <td>92.539062</td>\n",
       "    </tr>\n",
       "    <tr>\n",
       "      <th>169</th>\n",
       "      <td>228000</td>\n",
       "      <td>235151.750000</td>\n",
       "      <td>-7151.750000</td>\n",
       "    </tr>\n",
       "    <tr>\n",
       "      <th>98</th>\n",
       "      <td>83000</td>\n",
       "      <td>77836.914062</td>\n",
       "      <td>5163.085938</td>\n",
       "    </tr>\n",
       "    <tr>\n",
       "      <th>714</th>\n",
       "      <td>130500</td>\n",
       "      <td>178073.328125</td>\n",
       "      <td>-47573.328125</td>\n",
       "    </tr>\n",
       "  </tbody>\n",
       "</table>\n",
       "</div>"
      ],
      "text/plain": [
       "      actual           pred          diff\n",
       "60    158000  169830.531250 -11830.531250\n",
       "1403  282922  259008.875000  23913.125000\n",
       "1095  176432  169433.750000   6998.250000\n",
       "1018  160000  167351.296875  -7351.296875\n",
       "771   102000  116784.367188 -14784.367188\n",
       "849   187000  176727.062500  10272.937500\n",
       "210    98000   97907.460938     92.539062\n",
       "169   228000  235151.750000  -7151.750000\n",
       "98     83000   77836.914062   5163.085938\n",
       "714   130500  178073.328125 -47573.328125"
      ]
     },
     "execution_count": 166,
     "metadata": {},
     "output_type": "execute_result"
    }
   ],
   "source": [
    "outcome.sample(10)"
   ]
  },
  {
   "cell_type": "code",
   "execution_count": 167,
   "metadata": {},
   "outputs": [
    {
     "data": {
      "text/plain": [
       "array([0.03259098, 0.09016839, 0.        , 0.04562738, 0.04291146,\n",
       "       0.03747963, 0.03259098, 0.01683868, 0.04942966, 0.00434546,\n",
       "       0.03041825, 0.03476372, 0.03585008, 0.02661597, 0.        ,\n",
       "       0.05594786, 0.01249321, 0.00054318, 0.00271592, 0.00869093,\n",
       "       0.00760456, 0.00108637, 0.00543183, 0.00597501, 0.00869093,\n",
       "       0.0353069 , 0.01955459, 0.01466594, 0.00706138, 0.00054318,\n",
       "       0.00597501, 0.0065182 , 0.00271592, 0.02498642, 0.01629549,\n",
       "       0.        , 0.        , 0.00434546, 0.00271592, 0.        ,\n",
       "       0.00054318, 0.00054318, 0.00054318, 0.        , 0.00380228,\n",
       "       0.00162955, 0.00054318, 0.00217273, 0.        , 0.00217273,\n",
       "       0.0032591 , 0.00217273, 0.00543183, 0.00271592, 0.00054318,\n",
       "       0.        , 0.        , 0.00706138, 0.00271592, 0.00162955,\n",
       "       0.0097773 , 0.00162955, 0.        , 0.00054318, 0.        ,\n",
       "       0.        , 0.00108637, 0.        , 0.        , 0.00108637,\n",
       "       0.00271592, 0.00108637, 0.        , 0.        , 0.        ,\n",
       "       0.00543183, 0.00706138, 0.00271592, 0.00217273, 0.        ,\n",
       "       0.00597501, 0.00162955, 0.        , 0.        , 0.        ,\n",
       "       0.        , 0.        , 0.00108637, 0.        , 0.        ,\n",
       "       0.        , 0.        , 0.        , 0.        , 0.        ,\n",
       "       0.        , 0.        , 0.        , 0.        , 0.        ,\n",
       "       0.        , 0.        , 0.        , 0.        , 0.00162955,\n",
       "       0.00162955, 0.        , 0.00054318, 0.        , 0.        ,\n",
       "       0.00108637, 0.        , 0.        , 0.        , 0.00108637,\n",
       "       0.        , 0.00271592, 0.        , 0.        , 0.00434546,\n",
       "       0.        , 0.        , 0.00217273, 0.        , 0.00380228,\n",
       "       0.00217273, 0.        , 0.00054318, 0.00108637, 0.00162955,\n",
       "       0.        , 0.        , 0.        , 0.        , 0.        ,\n",
       "       0.        , 0.        , 0.        , 0.        , 0.        ,\n",
       "       0.        , 0.        , 0.        , 0.00162955, 0.00217273,\n",
       "       0.        , 0.00162955, 0.0032591 , 0.00162955, 0.        ,\n",
       "       0.00162955, 0.00108637, 0.        , 0.00054318, 0.        ,\n",
       "       0.00054318, 0.00162955, 0.00054318, 0.        , 0.        ,\n",
       "       0.00054318, 0.00054318, 0.00434546, 0.        , 0.00162955,\n",
       "       0.00162955, 0.        , 0.        , 0.00054318, 0.00543183,\n",
       "       0.        , 0.00380228, 0.        , 0.        , 0.00162955,\n",
       "       0.        , 0.        , 0.00488865, 0.00054318, 0.00162955,\n",
       "       0.        , 0.        , 0.        , 0.        , 0.        ,\n",
       "       0.        , 0.        , 0.        , 0.        , 0.        ,\n",
       "       0.        , 0.00217273, 0.        , 0.00108637, 0.0032591 ,\n",
       "       0.00054318, 0.        , 0.        , 0.        , 0.0032591 ,\n",
       "       0.        , 0.00162955, 0.00162955, 0.        , 0.        ,\n",
       "       0.        , 0.        , 0.        , 0.00923411, 0.        ,\n",
       "       0.00434546, 0.        , 0.00217273, 0.00108637, 0.00217273,\n",
       "       0.        , 0.        , 0.00217273, 0.00162955, 0.        ,\n",
       "       0.        , 0.        , 0.        , 0.        , 0.        ,\n",
       "       0.        , 0.        , 0.        , 0.        , 0.        ,\n",
       "       0.        , 0.        , 0.        , 0.        , 0.        ,\n",
       "       0.00217273, 0.        , 0.        , 0.        , 0.        ,\n",
       "       0.        , 0.        , 0.00217273, 0.        , 0.        ,\n",
       "       0.        , 0.        , 0.        , 0.0032591 , 0.        ,\n",
       "       0.        , 0.        , 0.        , 0.00108637, 0.        ,\n",
       "       0.        , 0.        , 0.        , 0.        , 0.        ,\n",
       "       0.        , 0.00217273, 0.        , 0.00108637, 0.        ,\n",
       "       0.        , 0.        , 0.        , 0.        , 0.        ,\n",
       "       0.00380228, 0.        , 0.        , 0.00108637, 0.        ,\n",
       "       0.00054318, 0.        , 0.00054318, 0.        , 0.00217273,\n",
       "       0.        , 0.        , 0.        , 0.00162955, 0.        ,\n",
       "       0.        , 0.00108637, 0.        , 0.        , 0.        ,\n",
       "       0.        , 0.        , 0.00217273, 0.00108637, 0.        ,\n",
       "       0.        , 0.        , 0.        , 0.00108637, 0.        ,\n",
       "       0.        , 0.00108637, 0.00543183, 0.        , 0.        ,\n",
       "       0.00054318, 0.00162955, 0.00217273, 0.        , 0.00054318,\n",
       "       0.00108637, 0.00054318, 0.0032591 , 0.0065182 , 0.        ,\n",
       "       0.        , 0.        , 0.        , 0.00488865, 0.00162955,\n",
       "       0.        , 0.00108637, 0.        , 0.        , 0.00217273,\n",
       "       0.00108637, 0.        , 0.        , 0.        , 0.00162955,\n",
       "       0.00108637, 0.        , 0.        , 0.        , 0.        ,\n",
       "       0.00108637, 0.00054318, 0.        , 0.00380228, 0.        ,\n",
       "       0.        , 0.        , 0.        , 0.        , 0.        ,\n",
       "       0.        , 0.        , 0.        , 0.00380228, 0.        ,\n",
       "       0.00380228, 0.        , 0.        , 0.        , 0.00814775,\n",
       "       0.        ], dtype=float32)"
      ]
     },
     "execution_count": 167,
     "metadata": {},
     "output_type": "execute_result"
    }
   ],
   "source": [
    "xgb_final.feature_importances_"
   ]
  }
 ],
 "metadata": {
  "kernelspec": {
   "display_name": "Python 3",
   "language": "python",
   "name": "python3"
  },
  "language_info": {
   "codemirror_mode": {
    "name": "ipython",
    "version": 3
   },
   "file_extension": ".py",
   "mimetype": "text/x-python",
   "name": "python",
   "nbconvert_exporter": "python",
   "pygments_lexer": "ipython3",
   "version": "3.5.5"
  }
 },
 "nbformat": 4,
 "nbformat_minor": 2
}
